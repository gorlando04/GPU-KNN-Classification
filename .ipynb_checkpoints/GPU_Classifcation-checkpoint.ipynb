{
 "cells": [
  {
   "cell_type": "markdown",
   "id": "73c1b5e8-4601-49b3-99b1-6bc511bfffa3",
   "metadata": {},
   "source": [
    "# Importando bibliotecas"
   ]
  },
  {
   "cell_type": "code",
   "execution_count": 2,
   "id": "f057ce11-324c-4121-969c-967be99aa469",
   "metadata": {},
   "outputs": [],
   "source": [
    "import matplotlib.pyplot as plt\n",
    "import seaborn as sns\n",
    "\n",
    "import numpy as np\n",
    "import pandas as pd\n",
    "\n",
    "import faiss\n",
    "\n",
    "\n",
    "import warnings\n",
    "warnings.filterwarnings(\"ignore\")"
   ]
  },
  {
   "cell_type": "markdown",
   "id": "9427fa3b-584c-42d8-819f-34f41ba1bfbc",
   "metadata": {},
   "source": [
    "# Lendo o conjunto de dados"
   ]
  },
  {
   "cell_type": "markdown",
   "id": "44cec293-b641-4c20-b314-2e1c2830dcf5",
   "metadata": {},
   "source": [
    "O conjunto de dados é relacionado a presença ou não do câncer de mama em diversos pacientes, e contém diversos atributos, na maioria numméricos. O conjunto de dados foi retirado do Kaggle e pode ser obtido no seguinte link"
   ]
  },
  {
   "cell_type": "markdown",
   "id": "7ef777e1-510c-470b-971c-70211383b618",
   "metadata": {},
   "source": [
    "https://www.kaggle.com/datasets/yasserh/breast-cancer-dataset"
   ]
  },
  {
   "cell_type": "code",
   "execution_count": 3,
   "id": "404cd132-7180-416d-83ee-b9b47fe42a26",
   "metadata": {},
   "outputs": [],
   "source": [
    "df = pd.read_csv(\"breast-cancer.csv\")"
   ]
  },
  {
   "cell_type": "code",
   "execution_count": 4,
   "id": "b04287d0-f5ba-4de9-bfa5-95ba9076197d",
   "metadata": {},
   "outputs": [
    {
     "data": {
      "text/html": [
       "<div>\n",
       "<style scoped>\n",
       "    .dataframe tbody tr th:only-of-type {\n",
       "        vertical-align: middle;\n",
       "    }\n",
       "\n",
       "    .dataframe tbody tr th {\n",
       "        vertical-align: top;\n",
       "    }\n",
       "\n",
       "    .dataframe thead th {\n",
       "        text-align: right;\n",
       "    }\n",
       "</style>\n",
       "<table border=\"1\" class=\"dataframe\">\n",
       "  <thead>\n",
       "    <tr style=\"text-align: right;\">\n",
       "      <th></th>\n",
       "      <th>id</th>\n",
       "      <th>diagnosis</th>\n",
       "      <th>radius_mean</th>\n",
       "      <th>texture_mean</th>\n",
       "      <th>perimeter_mean</th>\n",
       "      <th>area_mean</th>\n",
       "      <th>smoothness_mean</th>\n",
       "      <th>compactness_mean</th>\n",
       "      <th>concavity_mean</th>\n",
       "      <th>concave points_mean</th>\n",
       "      <th>...</th>\n",
       "      <th>radius_worst</th>\n",
       "      <th>texture_worst</th>\n",
       "      <th>perimeter_worst</th>\n",
       "      <th>area_worst</th>\n",
       "      <th>smoothness_worst</th>\n",
       "      <th>compactness_worst</th>\n",
       "      <th>concavity_worst</th>\n",
       "      <th>concave points_worst</th>\n",
       "      <th>symmetry_worst</th>\n",
       "      <th>fractal_dimension_worst</th>\n",
       "    </tr>\n",
       "  </thead>\n",
       "  <tbody>\n",
       "    <tr>\n",
       "      <th>0</th>\n",
       "      <td>842302</td>\n",
       "      <td>M</td>\n",
       "      <td>17.99</td>\n",
       "      <td>10.38</td>\n",
       "      <td>122.80</td>\n",
       "      <td>1001.0</td>\n",
       "      <td>0.11840</td>\n",
       "      <td>0.27760</td>\n",
       "      <td>0.3001</td>\n",
       "      <td>0.14710</td>\n",
       "      <td>...</td>\n",
       "      <td>25.38</td>\n",
       "      <td>17.33</td>\n",
       "      <td>184.60</td>\n",
       "      <td>2019.0</td>\n",
       "      <td>0.1622</td>\n",
       "      <td>0.6656</td>\n",
       "      <td>0.7119</td>\n",
       "      <td>0.2654</td>\n",
       "      <td>0.4601</td>\n",
       "      <td>0.11890</td>\n",
       "    </tr>\n",
       "    <tr>\n",
       "      <th>1</th>\n",
       "      <td>842517</td>\n",
       "      <td>M</td>\n",
       "      <td>20.57</td>\n",
       "      <td>17.77</td>\n",
       "      <td>132.90</td>\n",
       "      <td>1326.0</td>\n",
       "      <td>0.08474</td>\n",
       "      <td>0.07864</td>\n",
       "      <td>0.0869</td>\n",
       "      <td>0.07017</td>\n",
       "      <td>...</td>\n",
       "      <td>24.99</td>\n",
       "      <td>23.41</td>\n",
       "      <td>158.80</td>\n",
       "      <td>1956.0</td>\n",
       "      <td>0.1238</td>\n",
       "      <td>0.1866</td>\n",
       "      <td>0.2416</td>\n",
       "      <td>0.1860</td>\n",
       "      <td>0.2750</td>\n",
       "      <td>0.08902</td>\n",
       "    </tr>\n",
       "    <tr>\n",
       "      <th>2</th>\n",
       "      <td>84300903</td>\n",
       "      <td>M</td>\n",
       "      <td>19.69</td>\n",
       "      <td>21.25</td>\n",
       "      <td>130.00</td>\n",
       "      <td>1203.0</td>\n",
       "      <td>0.10960</td>\n",
       "      <td>0.15990</td>\n",
       "      <td>0.1974</td>\n",
       "      <td>0.12790</td>\n",
       "      <td>...</td>\n",
       "      <td>23.57</td>\n",
       "      <td>25.53</td>\n",
       "      <td>152.50</td>\n",
       "      <td>1709.0</td>\n",
       "      <td>0.1444</td>\n",
       "      <td>0.4245</td>\n",
       "      <td>0.4504</td>\n",
       "      <td>0.2430</td>\n",
       "      <td>0.3613</td>\n",
       "      <td>0.08758</td>\n",
       "    </tr>\n",
       "    <tr>\n",
       "      <th>3</th>\n",
       "      <td>84348301</td>\n",
       "      <td>M</td>\n",
       "      <td>11.42</td>\n",
       "      <td>20.38</td>\n",
       "      <td>77.58</td>\n",
       "      <td>386.1</td>\n",
       "      <td>0.14250</td>\n",
       "      <td>0.28390</td>\n",
       "      <td>0.2414</td>\n",
       "      <td>0.10520</td>\n",
       "      <td>...</td>\n",
       "      <td>14.91</td>\n",
       "      <td>26.50</td>\n",
       "      <td>98.87</td>\n",
       "      <td>567.7</td>\n",
       "      <td>0.2098</td>\n",
       "      <td>0.8663</td>\n",
       "      <td>0.6869</td>\n",
       "      <td>0.2575</td>\n",
       "      <td>0.6638</td>\n",
       "      <td>0.17300</td>\n",
       "    </tr>\n",
       "    <tr>\n",
       "      <th>4</th>\n",
       "      <td>84358402</td>\n",
       "      <td>M</td>\n",
       "      <td>20.29</td>\n",
       "      <td>14.34</td>\n",
       "      <td>135.10</td>\n",
       "      <td>1297.0</td>\n",
       "      <td>0.10030</td>\n",
       "      <td>0.13280</td>\n",
       "      <td>0.1980</td>\n",
       "      <td>0.10430</td>\n",
       "      <td>...</td>\n",
       "      <td>22.54</td>\n",
       "      <td>16.67</td>\n",
       "      <td>152.20</td>\n",
       "      <td>1575.0</td>\n",
       "      <td>0.1374</td>\n",
       "      <td>0.2050</td>\n",
       "      <td>0.4000</td>\n",
       "      <td>0.1625</td>\n",
       "      <td>0.2364</td>\n",
       "      <td>0.07678</td>\n",
       "    </tr>\n",
       "  </tbody>\n",
       "</table>\n",
       "<p>5 rows × 32 columns</p>\n",
       "</div>"
      ],
      "text/plain": [
       "         id diagnosis  radius_mean  texture_mean  perimeter_mean  area_mean  \\\n",
       "0    842302         M        17.99         10.38          122.80     1001.0   \n",
       "1    842517         M        20.57         17.77          132.90     1326.0   \n",
       "2  84300903         M        19.69         21.25          130.00     1203.0   \n",
       "3  84348301         M        11.42         20.38           77.58      386.1   \n",
       "4  84358402         M        20.29         14.34          135.10     1297.0   \n",
       "\n",
       "   smoothness_mean  compactness_mean  concavity_mean  concave points_mean  \\\n",
       "0          0.11840           0.27760          0.3001              0.14710   \n",
       "1          0.08474           0.07864          0.0869              0.07017   \n",
       "2          0.10960           0.15990          0.1974              0.12790   \n",
       "3          0.14250           0.28390          0.2414              0.10520   \n",
       "4          0.10030           0.13280          0.1980              0.10430   \n",
       "\n",
       "   ...  radius_worst  texture_worst  perimeter_worst  area_worst  \\\n",
       "0  ...         25.38          17.33           184.60      2019.0   \n",
       "1  ...         24.99          23.41           158.80      1956.0   \n",
       "2  ...         23.57          25.53           152.50      1709.0   \n",
       "3  ...         14.91          26.50            98.87       567.7   \n",
       "4  ...         22.54          16.67           152.20      1575.0   \n",
       "\n",
       "   smoothness_worst  compactness_worst  concavity_worst  concave points_worst  \\\n",
       "0            0.1622             0.6656           0.7119                0.2654   \n",
       "1            0.1238             0.1866           0.2416                0.1860   \n",
       "2            0.1444             0.4245           0.4504                0.2430   \n",
       "3            0.2098             0.8663           0.6869                0.2575   \n",
       "4            0.1374             0.2050           0.4000                0.1625   \n",
       "\n",
       "   symmetry_worst  fractal_dimension_worst  \n",
       "0          0.4601                  0.11890  \n",
       "1          0.2750                  0.08902  \n",
       "2          0.3613                  0.08758  \n",
       "3          0.6638                  0.17300  \n",
       "4          0.2364                  0.07678  \n",
       "\n",
       "[5 rows x 32 columns]"
      ]
     },
     "execution_count": 4,
     "metadata": {},
     "output_type": "execute_result"
    }
   ],
   "source": [
    "df.head()"
   ]
  },
  {
   "cell_type": "code",
   "execution_count": 4,
   "id": "d7a30574-248d-4295-be6a-3a3da7ac2446",
   "metadata": {},
   "outputs": [
    {
     "data": {
      "text/plain": [
       "(569, 32)"
      ]
     },
     "execution_count": 4,
     "metadata": {},
     "output_type": "execute_result"
    }
   ],
   "source": [
    "# Características do conjunto\n",
    "df.shape"
   ]
  },
  {
   "cell_type": "code",
   "execution_count": 5,
   "id": "704cf44d-466e-4836-aa08-ba973ddc4059",
   "metadata": {},
   "outputs": [
    {
     "data": {
      "text/plain": [
       "Index(['id', 'diagnosis', 'radius_mean', 'texture_mean', 'perimeter_mean',\n",
       "       'area_mean', 'smoothness_mean', 'compactness_mean', 'concavity_mean',\n",
       "       'concave points_mean', 'symmetry_mean', 'fractal_dimension_mean',\n",
       "       'radius_se', 'texture_se', 'perimeter_se', 'area_se', 'smoothness_se',\n",
       "       'compactness_se', 'concavity_se', 'concave points_se', 'symmetry_se',\n",
       "       'fractal_dimension_se', 'radius_worst', 'texture_worst',\n",
       "       'perimeter_worst', 'area_worst', 'smoothness_worst',\n",
       "       'compactness_worst', 'concavity_worst', 'concave points_worst',\n",
       "       'symmetry_worst', 'fractal_dimension_worst'],\n",
       "      dtype='object')"
      ]
     },
     "execution_count": 5,
     "metadata": {},
     "output_type": "execute_result"
    }
   ],
   "source": [
    "df.columns"
   ]
  },
  {
   "cell_type": "code",
   "execution_count": 6,
   "id": "92d88619-286f-4fe6-bf39-e27e3f7c96ea",
   "metadata": {},
   "outputs": [
    {
     "data": {
      "text/plain": [
       "id                           int64\n",
       "diagnosis                   object\n",
       "radius_mean                float64\n",
       "texture_mean               float64\n",
       "perimeter_mean             float64\n",
       "area_mean                  float64\n",
       "smoothness_mean            float64\n",
       "compactness_mean           float64\n",
       "concavity_mean             float64\n",
       "concave points_mean        float64\n",
       "symmetry_mean              float64\n",
       "fractal_dimension_mean     float64\n",
       "radius_se                  float64\n",
       "texture_se                 float64\n",
       "perimeter_se               float64\n",
       "area_se                    float64\n",
       "smoothness_se              float64\n",
       "compactness_se             float64\n",
       "concavity_se               float64\n",
       "concave points_se          float64\n",
       "symmetry_se                float64\n",
       "fractal_dimension_se       float64\n",
       "radius_worst               float64\n",
       "texture_worst              float64\n",
       "perimeter_worst            float64\n",
       "area_worst                 float64\n",
       "smoothness_worst           float64\n",
       "compactness_worst          float64\n",
       "concavity_worst            float64\n",
       "concave points_worst       float64\n",
       "symmetry_worst             float64\n",
       "fractal_dimension_worst    float64\n",
       "dtype: object"
      ]
     },
     "execution_count": 6,
     "metadata": {},
     "output_type": "execute_result"
    }
   ],
   "source": [
    "df.dtypes"
   ]
  },
  {
   "cell_type": "code",
   "execution_count": 7,
   "id": "67fd16cf-caad-4a60-b703-88b2a3af1b07",
   "metadata": {},
   "outputs": [
    {
     "data": {
      "text/html": [
       "<div>\n",
       "<style scoped>\n",
       "    .dataframe tbody tr th:only-of-type {\n",
       "        vertical-align: middle;\n",
       "    }\n",
       "\n",
       "    .dataframe tbody tr th {\n",
       "        vertical-align: top;\n",
       "    }\n",
       "\n",
       "    .dataframe thead th {\n",
       "        text-align: right;\n",
       "    }\n",
       "</style>\n",
       "<table border=\"1\" class=\"dataframe\">\n",
       "  <thead>\n",
       "    <tr style=\"text-align: right;\">\n",
       "      <th></th>\n",
       "      <th>id</th>\n",
       "      <th>radius_mean</th>\n",
       "      <th>texture_mean</th>\n",
       "      <th>perimeter_mean</th>\n",
       "      <th>area_mean</th>\n",
       "      <th>smoothness_mean</th>\n",
       "      <th>compactness_mean</th>\n",
       "      <th>concavity_mean</th>\n",
       "      <th>concave points_mean</th>\n",
       "      <th>symmetry_mean</th>\n",
       "      <th>...</th>\n",
       "      <th>radius_worst</th>\n",
       "      <th>texture_worst</th>\n",
       "      <th>perimeter_worst</th>\n",
       "      <th>area_worst</th>\n",
       "      <th>smoothness_worst</th>\n",
       "      <th>compactness_worst</th>\n",
       "      <th>concavity_worst</th>\n",
       "      <th>concave points_worst</th>\n",
       "      <th>symmetry_worst</th>\n",
       "      <th>fractal_dimension_worst</th>\n",
       "    </tr>\n",
       "  </thead>\n",
       "  <tbody>\n",
       "    <tr>\n",
       "      <th>count</th>\n",
       "      <td>5.690000e+02</td>\n",
       "      <td>569.000000</td>\n",
       "      <td>569.000000</td>\n",
       "      <td>569.000000</td>\n",
       "      <td>569.000000</td>\n",
       "      <td>569.000000</td>\n",
       "      <td>569.000000</td>\n",
       "      <td>569.000000</td>\n",
       "      <td>569.000000</td>\n",
       "      <td>569.000000</td>\n",
       "      <td>...</td>\n",
       "      <td>569.000000</td>\n",
       "      <td>569.000000</td>\n",
       "      <td>569.000000</td>\n",
       "      <td>569.000000</td>\n",
       "      <td>569.000000</td>\n",
       "      <td>569.000000</td>\n",
       "      <td>569.000000</td>\n",
       "      <td>569.000000</td>\n",
       "      <td>569.000000</td>\n",
       "      <td>569.000000</td>\n",
       "    </tr>\n",
       "    <tr>\n",
       "      <th>mean</th>\n",
       "      <td>3.037183e+07</td>\n",
       "      <td>14.127292</td>\n",
       "      <td>19.289649</td>\n",
       "      <td>91.969033</td>\n",
       "      <td>654.889104</td>\n",
       "      <td>0.096360</td>\n",
       "      <td>0.104341</td>\n",
       "      <td>0.088799</td>\n",
       "      <td>0.048919</td>\n",
       "      <td>0.181162</td>\n",
       "      <td>...</td>\n",
       "      <td>16.269190</td>\n",
       "      <td>25.677223</td>\n",
       "      <td>107.261213</td>\n",
       "      <td>880.583128</td>\n",
       "      <td>0.132369</td>\n",
       "      <td>0.254265</td>\n",
       "      <td>0.272188</td>\n",
       "      <td>0.114606</td>\n",
       "      <td>0.290076</td>\n",
       "      <td>0.083946</td>\n",
       "    </tr>\n",
       "    <tr>\n",
       "      <th>std</th>\n",
       "      <td>1.250206e+08</td>\n",
       "      <td>3.524049</td>\n",
       "      <td>4.301036</td>\n",
       "      <td>24.298981</td>\n",
       "      <td>351.914129</td>\n",
       "      <td>0.014064</td>\n",
       "      <td>0.052813</td>\n",
       "      <td>0.079720</td>\n",
       "      <td>0.038803</td>\n",
       "      <td>0.027414</td>\n",
       "      <td>...</td>\n",
       "      <td>4.833242</td>\n",
       "      <td>6.146258</td>\n",
       "      <td>33.602542</td>\n",
       "      <td>569.356993</td>\n",
       "      <td>0.022832</td>\n",
       "      <td>0.157336</td>\n",
       "      <td>0.208624</td>\n",
       "      <td>0.065732</td>\n",
       "      <td>0.061867</td>\n",
       "      <td>0.018061</td>\n",
       "    </tr>\n",
       "    <tr>\n",
       "      <th>min</th>\n",
       "      <td>8.670000e+03</td>\n",
       "      <td>6.981000</td>\n",
       "      <td>9.710000</td>\n",
       "      <td>43.790000</td>\n",
       "      <td>143.500000</td>\n",
       "      <td>0.052630</td>\n",
       "      <td>0.019380</td>\n",
       "      <td>0.000000</td>\n",
       "      <td>0.000000</td>\n",
       "      <td>0.106000</td>\n",
       "      <td>...</td>\n",
       "      <td>7.930000</td>\n",
       "      <td>12.020000</td>\n",
       "      <td>50.410000</td>\n",
       "      <td>185.200000</td>\n",
       "      <td>0.071170</td>\n",
       "      <td>0.027290</td>\n",
       "      <td>0.000000</td>\n",
       "      <td>0.000000</td>\n",
       "      <td>0.156500</td>\n",
       "      <td>0.055040</td>\n",
       "    </tr>\n",
       "    <tr>\n",
       "      <th>25%</th>\n",
       "      <td>8.692180e+05</td>\n",
       "      <td>11.700000</td>\n",
       "      <td>16.170000</td>\n",
       "      <td>75.170000</td>\n",
       "      <td>420.300000</td>\n",
       "      <td>0.086370</td>\n",
       "      <td>0.064920</td>\n",
       "      <td>0.029560</td>\n",
       "      <td>0.020310</td>\n",
       "      <td>0.161900</td>\n",
       "      <td>...</td>\n",
       "      <td>13.010000</td>\n",
       "      <td>21.080000</td>\n",
       "      <td>84.110000</td>\n",
       "      <td>515.300000</td>\n",
       "      <td>0.116600</td>\n",
       "      <td>0.147200</td>\n",
       "      <td>0.114500</td>\n",
       "      <td>0.064930</td>\n",
       "      <td>0.250400</td>\n",
       "      <td>0.071460</td>\n",
       "    </tr>\n",
       "    <tr>\n",
       "      <th>50%</th>\n",
       "      <td>9.060240e+05</td>\n",
       "      <td>13.370000</td>\n",
       "      <td>18.840000</td>\n",
       "      <td>86.240000</td>\n",
       "      <td>551.100000</td>\n",
       "      <td>0.095870</td>\n",
       "      <td>0.092630</td>\n",
       "      <td>0.061540</td>\n",
       "      <td>0.033500</td>\n",
       "      <td>0.179200</td>\n",
       "      <td>...</td>\n",
       "      <td>14.970000</td>\n",
       "      <td>25.410000</td>\n",
       "      <td>97.660000</td>\n",
       "      <td>686.500000</td>\n",
       "      <td>0.131300</td>\n",
       "      <td>0.211900</td>\n",
       "      <td>0.226700</td>\n",
       "      <td>0.099930</td>\n",
       "      <td>0.282200</td>\n",
       "      <td>0.080040</td>\n",
       "    </tr>\n",
       "    <tr>\n",
       "      <th>75%</th>\n",
       "      <td>8.813129e+06</td>\n",
       "      <td>15.780000</td>\n",
       "      <td>21.800000</td>\n",
       "      <td>104.100000</td>\n",
       "      <td>782.700000</td>\n",
       "      <td>0.105300</td>\n",
       "      <td>0.130400</td>\n",
       "      <td>0.130700</td>\n",
       "      <td>0.074000</td>\n",
       "      <td>0.195700</td>\n",
       "      <td>...</td>\n",
       "      <td>18.790000</td>\n",
       "      <td>29.720000</td>\n",
       "      <td>125.400000</td>\n",
       "      <td>1084.000000</td>\n",
       "      <td>0.146000</td>\n",
       "      <td>0.339100</td>\n",
       "      <td>0.382900</td>\n",
       "      <td>0.161400</td>\n",
       "      <td>0.317900</td>\n",
       "      <td>0.092080</td>\n",
       "    </tr>\n",
       "    <tr>\n",
       "      <th>max</th>\n",
       "      <td>9.113205e+08</td>\n",
       "      <td>28.110000</td>\n",
       "      <td>39.280000</td>\n",
       "      <td>188.500000</td>\n",
       "      <td>2501.000000</td>\n",
       "      <td>0.163400</td>\n",
       "      <td>0.345400</td>\n",
       "      <td>0.426800</td>\n",
       "      <td>0.201200</td>\n",
       "      <td>0.304000</td>\n",
       "      <td>...</td>\n",
       "      <td>36.040000</td>\n",
       "      <td>49.540000</td>\n",
       "      <td>251.200000</td>\n",
       "      <td>4254.000000</td>\n",
       "      <td>0.222600</td>\n",
       "      <td>1.058000</td>\n",
       "      <td>1.252000</td>\n",
       "      <td>0.291000</td>\n",
       "      <td>0.663800</td>\n",
       "      <td>0.207500</td>\n",
       "    </tr>\n",
       "  </tbody>\n",
       "</table>\n",
       "<p>8 rows × 31 columns</p>\n",
       "</div>"
      ],
      "text/plain": [
       "                 id  radius_mean  texture_mean  perimeter_mean    area_mean  \\\n",
       "count  5.690000e+02   569.000000    569.000000      569.000000   569.000000   \n",
       "mean   3.037183e+07    14.127292     19.289649       91.969033   654.889104   \n",
       "std    1.250206e+08     3.524049      4.301036       24.298981   351.914129   \n",
       "min    8.670000e+03     6.981000      9.710000       43.790000   143.500000   \n",
       "25%    8.692180e+05    11.700000     16.170000       75.170000   420.300000   \n",
       "50%    9.060240e+05    13.370000     18.840000       86.240000   551.100000   \n",
       "75%    8.813129e+06    15.780000     21.800000      104.100000   782.700000   \n",
       "max    9.113205e+08    28.110000     39.280000      188.500000  2501.000000   \n",
       "\n",
       "       smoothness_mean  compactness_mean  concavity_mean  concave points_mean  \\\n",
       "count       569.000000        569.000000      569.000000           569.000000   \n",
       "mean          0.096360          0.104341        0.088799             0.048919   \n",
       "std           0.014064          0.052813        0.079720             0.038803   \n",
       "min           0.052630          0.019380        0.000000             0.000000   \n",
       "25%           0.086370          0.064920        0.029560             0.020310   \n",
       "50%           0.095870          0.092630        0.061540             0.033500   \n",
       "75%           0.105300          0.130400        0.130700             0.074000   \n",
       "max           0.163400          0.345400        0.426800             0.201200   \n",
       "\n",
       "       symmetry_mean  ...  radius_worst  texture_worst  perimeter_worst  \\\n",
       "count     569.000000  ...    569.000000     569.000000       569.000000   \n",
       "mean        0.181162  ...     16.269190      25.677223       107.261213   \n",
       "std         0.027414  ...      4.833242       6.146258        33.602542   \n",
       "min         0.106000  ...      7.930000      12.020000        50.410000   \n",
       "25%         0.161900  ...     13.010000      21.080000        84.110000   \n",
       "50%         0.179200  ...     14.970000      25.410000        97.660000   \n",
       "75%         0.195700  ...     18.790000      29.720000       125.400000   \n",
       "max         0.304000  ...     36.040000      49.540000       251.200000   \n",
       "\n",
       "        area_worst  smoothness_worst  compactness_worst  concavity_worst  \\\n",
       "count   569.000000        569.000000         569.000000       569.000000   \n",
       "mean    880.583128          0.132369           0.254265         0.272188   \n",
       "std     569.356993          0.022832           0.157336         0.208624   \n",
       "min     185.200000          0.071170           0.027290         0.000000   \n",
       "25%     515.300000          0.116600           0.147200         0.114500   \n",
       "50%     686.500000          0.131300           0.211900         0.226700   \n",
       "75%    1084.000000          0.146000           0.339100         0.382900   \n",
       "max    4254.000000          0.222600           1.058000         1.252000   \n",
       "\n",
       "       concave points_worst  symmetry_worst  fractal_dimension_worst  \n",
       "count            569.000000      569.000000               569.000000  \n",
       "mean               0.114606        0.290076                 0.083946  \n",
       "std                0.065732        0.061867                 0.018061  \n",
       "min                0.000000        0.156500                 0.055040  \n",
       "25%                0.064930        0.250400                 0.071460  \n",
       "50%                0.099930        0.282200                 0.080040  \n",
       "75%                0.161400        0.317900                 0.092080  \n",
       "max                0.291000        0.663800                 0.207500  \n",
       "\n",
       "[8 rows x 31 columns]"
      ]
     },
     "execution_count": 7,
     "metadata": {},
     "output_type": "execute_result"
    }
   ],
   "source": [
    "df.describe()"
   ]
  },
  {
   "cell_type": "code",
   "execution_count": 8,
   "id": "3bf3ac41-2564-4474-86d0-e76d7d3df661",
   "metadata": {},
   "outputs": [
    {
     "data": {
      "text/plain": [
       "array(['M', 'B'], dtype=object)"
      ]
     },
     "execution_count": 8,
     "metadata": {},
     "output_type": "execute_result"
    }
   ],
   "source": [
    "# Verificando a classe alvo\n",
    "pd.unique(df['diagnosis']) # M: Maligno B: Benigno."
   ]
  },
  {
   "cell_type": "code",
   "execution_count": 9,
   "id": "05ab5f02-d5e7-4edf-b12d-3471cdab62d9",
   "metadata": {},
   "outputs": [
    {
     "data": {
      "text/plain": [
       "id                         0\n",
       "diagnosis                  0\n",
       "radius_mean                0\n",
       "texture_mean               0\n",
       "perimeter_mean             0\n",
       "area_mean                  0\n",
       "smoothness_mean            0\n",
       "compactness_mean           0\n",
       "concavity_mean             0\n",
       "concave points_mean        0\n",
       "symmetry_mean              0\n",
       "fractal_dimension_mean     0\n",
       "radius_se                  0\n",
       "texture_se                 0\n",
       "perimeter_se               0\n",
       "area_se                    0\n",
       "smoothness_se              0\n",
       "compactness_se             0\n",
       "concavity_se               0\n",
       "concave points_se          0\n",
       "symmetry_se                0\n",
       "fractal_dimension_se       0\n",
       "radius_worst               0\n",
       "texture_worst              0\n",
       "perimeter_worst            0\n",
       "area_worst                 0\n",
       "smoothness_worst           0\n",
       "compactness_worst          0\n",
       "concavity_worst            0\n",
       "concave points_worst       0\n",
       "symmetry_worst             0\n",
       "fractal_dimension_worst    0\n",
       "dtype: int64"
      ]
     },
     "execution_count": 9,
     "metadata": {},
     "output_type": "execute_result"
    }
   ],
   "source": [
    "df.isna().sum()"
   ]
  },
  {
   "cell_type": "markdown",
   "id": "cfdb9932-628a-481a-ac5e-b2b0e52c678c",
   "metadata": {},
   "source": [
    "# Analisando os atributos"
   ]
  },
  {
   "cell_type": "code",
   "execution_count": 10,
   "id": "206700c2-233d-4119-a8b1-dfc9e3104b06",
   "metadata": {},
   "outputs": [
    {
     "data": {
      "text/plain": [
       "Index(['B', 'M'], dtype='object')"
      ]
     },
     "execution_count": 10,
     "metadata": {},
     "output_type": "execute_result"
    }
   ],
   "source": [
    "df['diagnosis'].value_counts().keys()"
   ]
  },
  {
   "cell_type": "markdown",
   "id": "49d211f1-c6b7-4f7e-99d9-d83a37347a9f",
   "metadata": {
    "tags": []
   },
   "source": [
    "## Classe alvo"
   ]
  },
  {
   "cell_type": "code",
   "execution_count": 11,
   "id": "701a57b6-99dc-48f0-bbcf-7d6ce1a279cf",
   "metadata": {},
   "outputs": [],
   "source": [
    "sns.set_theme()\n",
    "sns.set(rc={'figure.figsize':(10,5)})\n"
   ]
  },
  {
   "cell_type": "code",
   "execution_count": 12,
   "id": "dbe8701e-c129-4e6c-8aa3-be1eff1504a9",
   "metadata": {},
   "outputs": [
    {
     "data": {
      "image/png": "[encoded data removed]",
      "text/plain": [
       "<Figure size 1000x500 with 1 Axes>"
      ]
     },
     "metadata": {},
     "output_type": "display_data"
    }
   ],
   "source": [
    "plt.bar(df['diagnosis'].value_counts().keys(),df['diagnosis'].value_counts().values,color=('green','red'))\n",
    "plt.xticks(df['diagnosis'].value_counts().keys(),['Benigno','Maligno'])\n",
    "\n",
    "plt.ylabel(\"Count\")\n",
    "plt.title(\"Distribuição do diagnóstico de Cancer\")\n",
    "\n",
    "plt.show()"
   ]
  },
  {
   "cell_type": "markdown",
   "id": "bce8bcfa-1fb6-446f-8809-94ee795cb60c",
   "metadata": {},
   "source": [
    "Podemos perceber que este conjunto de dados parece bastante equilibrado não contendo um desbalanceamento tão evidente, desta maneira, não será preciso realizar o rebalanceamento do conjunto de dados"
   ]
  },
  {
   "cell_type": "markdown",
   "id": "a0e2fc98-3be1-4a79-875e-bc8a6e16897f",
   "metadata": {
    "tags": []
   },
   "source": [
    "## Calculando a correlação e removendo atributos redundantes"
   ]
  },
  {
   "cell_type": "code",
   "execution_count": 5,
   "id": "cdf61154-078b-4e4b-a0cf-25a2c9c65076",
   "metadata": {},
   "outputs": [],
   "source": [
    "#Retriada/Identificação de atributos numéricos\n",
    "numerics = ['int16', 'int32', 'int64', 'float16', 'float32', 'float64']\n",
    "\n",
    "df_numericas = df.select_dtypes(include=numerics)"
   ]
  },
  {
   "cell_type": "code",
   "execution_count": 6,
   "id": "6f4640a4-7a26-4628-a992-d7bcf8ddbabd",
   "metadata": {},
   "outputs": [],
   "source": [
    "#Função que determina a correlação para cada par de atributos em todo o conjunto de dados e armazena em um novo dataframe\n",
    "def correlacao(df):\n",
    "\n",
    "    df_corr = pd.DataFrame(columns=['Nome Col 1', 'Nome Col 2', 'Correlação'])\n",
    "    index = 0\n",
    "    for coluna_x in df.columns:\n",
    "        for coluna_y in df.columns:\n",
    "            if coluna_x == coluna_y:\n",
    "                continue\n",
    "            cor = df[coluna_x].corr(df[coluna_y])\n",
    "            df_corr.loc[index] = [coluna_x,coluna_y,cor]\n",
    "            index += 1\n",
    "    return df_corr\n",
    "\n",
    "df_corr = correlacao(df_numericas)"
   ]
  },
  {
   "cell_type": "code",
   "execution_count": 7,
   "id": "a580bc1a-3789-4635-88cf-bef03ffb5455",
   "metadata": {},
   "outputs": [
    {
     "data": {
      "text/plain": [
       "(930, 3)"
      ]
     },
     "execution_count": 7,
     "metadata": {},
     "output_type": "execute_result"
    }
   ],
   "source": [
    "df_corr.shape"
   ]
  },
  {
   "cell_type": "code",
   "execution_count": 16,
   "id": "4fbee763-762a-465a-a6d6-ee3ffd1f6483",
   "metadata": {},
   "outputs": [
    {
     "data": {
      "text/html": [
       "<div>\n",
       "<style scoped>\n",
       "    .dataframe tbody tr th:only-of-type {\n",
       "        vertical-align: middle;\n",
       "    }\n",
       "\n",
       "    .dataframe tbody tr th {\n",
       "        vertical-align: top;\n",
       "    }\n",
       "\n",
       "    .dataframe thead th {\n",
       "        text-align: right;\n",
       "    }\n",
       "</style>\n",
       "<table border=\"1\" class=\"dataframe\">\n",
       "  <thead>\n",
       "    <tr style=\"text-align: right;\">\n",
       "      <th></th>\n",
       "      <th>Nome Col 1</th>\n",
       "      <th>Nome Col 2</th>\n",
       "      <th>Correlação</th>\n",
       "    </tr>\n",
       "  </thead>\n",
       "  <tbody>\n",
       "  </tbody>\n",
       "</table>\n",
       "</div>"
      ],
      "text/plain": [
       "Empty DataFrame\n",
       "Columns: [Nome Col 1, Nome Col 2, Correlação]\n",
       "Index: []"
      ]
     },
     "execution_count": 16,
     "metadata": {},
     "output_type": "execute_result"
    }
   ],
   "source": [
    "#Verificar quais correlações são NULAS\n",
    "df_corr[df_corr['Correlação'].isna()]"
   ]
  },
  {
   "cell_type": "code",
   "execution_count": 8,
   "id": "a79d8185-b8d1-4df6-a317-f441a878397a",
   "metadata": {},
   "outputs": [
    {
     "data": {
      "text/html": [
       "<div>\n",
       "<style scoped>\n",
       "    .dataframe tbody tr th:only-of-type {\n",
       "        vertical-align: middle;\n",
       "    }\n",
       "\n",
       "    .dataframe tbody tr th {\n",
       "        vertical-align: top;\n",
       "    }\n",
       "\n",
       "    .dataframe thead th {\n",
       "        text-align: right;\n",
       "    }\n",
       "</style>\n",
       "<table border=\"1\" class=\"dataframe\">\n",
       "  <thead>\n",
       "    <tr style=\"text-align: right;\">\n",
       "      <th></th>\n",
       "      <th>Nome Col 1</th>\n",
       "      <th>Nome Col 2</th>\n",
       "      <th>Correlação</th>\n",
       "    </tr>\n",
       "  </thead>\n",
       "  <tbody>\n",
       "    <tr>\n",
       "      <th>91</th>\n",
       "      <td>perimeter_mean</td>\n",
       "      <td>radius_mean</td>\n",
       "      <td>0.997855</td>\n",
       "    </tr>\n",
       "    <tr>\n",
       "      <th>32</th>\n",
       "      <td>radius_mean</td>\n",
       "      <td>perimeter_mean</td>\n",
       "      <td>0.997855</td>\n",
       "    </tr>\n",
       "    <tr>\n",
       "      <th>711</th>\n",
       "      <td>perimeter_worst</td>\n",
       "      <td>radius_worst</td>\n",
       "      <td>0.993708</td>\n",
       "    </tr>\n",
       "    <tr>\n",
       "      <th>652</th>\n",
       "      <td>radius_worst</td>\n",
       "      <td>perimeter_worst</td>\n",
       "      <td>0.993708</td>\n",
       "    </tr>\n",
       "    <tr>\n",
       "      <th>33</th>\n",
       "      <td>radius_mean</td>\n",
       "      <td>area_mean</td>\n",
       "      <td>0.987357</td>\n",
       "    </tr>\n",
       "    <tr>\n",
       "      <th>121</th>\n",
       "      <td>area_mean</td>\n",
       "      <td>radius_mean</td>\n",
       "      <td>0.987357</td>\n",
       "    </tr>\n",
       "    <tr>\n",
       "      <th>123</th>\n",
       "      <td>area_mean</td>\n",
       "      <td>perimeter_mean</td>\n",
       "      <td>0.986507</td>\n",
       "    </tr>\n",
       "    <tr>\n",
       "      <th>93</th>\n",
       "      <td>perimeter_mean</td>\n",
       "      <td>area_mean</td>\n",
       "      <td>0.986507</td>\n",
       "    </tr>\n",
       "    <tr>\n",
       "      <th>653</th>\n",
       "      <td>radius_worst</td>\n",
       "      <td>area_worst</td>\n",
       "      <td>0.984015</td>\n",
       "    </tr>\n",
       "    <tr>\n",
       "      <th>741</th>\n",
       "      <td>area_worst</td>\n",
       "      <td>radius_worst</td>\n",
       "      <td>0.984015</td>\n",
       "    </tr>\n",
       "    <tr>\n",
       "      <th>743</th>\n",
       "      <td>area_worst</td>\n",
       "      <td>perimeter_worst</td>\n",
       "      <td>0.977578</td>\n",
       "    </tr>\n",
       "    <tr>\n",
       "      <th>713</th>\n",
       "      <td>perimeter_worst</td>\n",
       "      <td>area_worst</td>\n",
       "      <td>0.977578</td>\n",
       "    </tr>\n",
       "    <tr>\n",
       "      <th>342</th>\n",
       "      <td>radius_se</td>\n",
       "      <td>perimeter_se</td>\n",
       "      <td>0.972794</td>\n",
       "    </tr>\n",
       "    <tr>\n",
       "      <th>401</th>\n",
       "      <td>perimeter_se</td>\n",
       "      <td>radius_se</td>\n",
       "      <td>0.972794</td>\n",
       "    </tr>\n",
       "    <tr>\n",
       "      <th>693</th>\n",
       "      <td>perimeter_worst</td>\n",
       "      <td>perimeter_mean</td>\n",
       "      <td>0.970387</td>\n",
       "    </tr>\n",
       "    <tr>\n",
       "      <th>112</th>\n",
       "      <td>perimeter_mean</td>\n",
       "      <td>perimeter_worst</td>\n",
       "      <td>0.970387</td>\n",
       "    </tr>\n",
       "    <tr>\n",
       "      <th>50</th>\n",
       "      <td>radius_mean</td>\n",
       "      <td>radius_worst</td>\n",
       "      <td>0.969539</td>\n",
       "    </tr>\n",
       "    <tr>\n",
       "      <th>631</th>\n",
       "      <td>radius_worst</td>\n",
       "      <td>radius_mean</td>\n",
       "      <td>0.969539</td>\n",
       "    </tr>\n",
       "    <tr>\n",
       "      <th>633</th>\n",
       "      <td>radius_worst</td>\n",
       "      <td>perimeter_mean</td>\n",
       "      <td>0.969476</td>\n",
       "    </tr>\n",
       "    <tr>\n",
       "      <th>110</th>\n",
       "      <td>perimeter_mean</td>\n",
       "      <td>radius_worst</td>\n",
       "      <td>0.969476</td>\n",
       "    </tr>\n",
       "    <tr>\n",
       "      <th>52</th>\n",
       "      <td>radius_mean</td>\n",
       "      <td>perimeter_worst</td>\n",
       "      <td>0.965137</td>\n",
       "    </tr>\n",
       "    <tr>\n",
       "      <th>691</th>\n",
       "      <td>perimeter_worst</td>\n",
       "      <td>radius_mean</td>\n",
       "      <td>0.965137</td>\n",
       "    </tr>\n",
       "    <tr>\n",
       "      <th>140</th>\n",
       "      <td>area_mean</td>\n",
       "      <td>radius_worst</td>\n",
       "      <td>0.962746</td>\n",
       "    </tr>\n",
       "    <tr>\n",
       "      <th>634</th>\n",
       "      <td>radius_worst</td>\n",
       "      <td>area_mean</td>\n",
       "      <td>0.962746</td>\n",
       "    </tr>\n",
       "    <tr>\n",
       "      <th>143</th>\n",
       "      <td>area_mean</td>\n",
       "      <td>area_worst</td>\n",
       "      <td>0.959213</td>\n",
       "    </tr>\n",
       "    <tr>\n",
       "      <th>724</th>\n",
       "      <td>area_worst</td>\n",
       "      <td>area_mean</td>\n",
       "      <td>0.959213</td>\n",
       "    </tr>\n",
       "    <tr>\n",
       "      <th>142</th>\n",
       "      <td>area_mean</td>\n",
       "      <td>perimeter_worst</td>\n",
       "      <td>0.959120</td>\n",
       "    </tr>\n",
       "    <tr>\n",
       "      <th>694</th>\n",
       "      <td>perimeter_worst</td>\n",
       "      <td>area_mean</td>\n",
       "      <td>0.959120</td>\n",
       "    </tr>\n",
       "    <tr>\n",
       "      <th>431</th>\n",
       "      <td>area_se</td>\n",
       "      <td>radius_se</td>\n",
       "      <td>0.951830</td>\n",
       "    </tr>\n",
       "    <tr>\n",
       "      <th>343</th>\n",
       "      <td>radius_se</td>\n",
       "      <td>area_se</td>\n",
       "      <td>0.951830</td>\n",
       "    </tr>\n",
       "    <tr>\n",
       "      <th>113</th>\n",
       "      <td>perimeter_mean</td>\n",
       "      <td>area_worst</td>\n",
       "      <td>0.941550</td>\n",
       "    </tr>\n",
       "    <tr>\n",
       "      <th>723</th>\n",
       "      <td>area_worst</td>\n",
       "      <td>perimeter_mean</td>\n",
       "      <td>0.941550</td>\n",
       "    </tr>\n",
       "    <tr>\n",
       "      <th>721</th>\n",
       "      <td>area_worst</td>\n",
       "      <td>radius_mean</td>\n",
       "      <td>0.941082</td>\n",
       "    </tr>\n",
       "    <tr>\n",
       "      <th>53</th>\n",
       "      <td>radius_mean</td>\n",
       "      <td>area_worst</td>\n",
       "      <td>0.941082</td>\n",
       "    </tr>\n",
       "    <tr>\n",
       "      <th>433</th>\n",
       "      <td>area_se</td>\n",
       "      <td>perimeter_se</td>\n",
       "      <td>0.937655</td>\n",
       "    </tr>\n",
       "    <tr>\n",
       "      <th>403</th>\n",
       "      <td>perimeter_se</td>\n",
       "      <td>area_se</td>\n",
       "      <td>0.937655</td>\n",
       "    </tr>\n",
       "    <tr>\n",
       "      <th>217</th>\n",
       "      <td>concavity_mean</td>\n",
       "      <td>concave points_mean</td>\n",
       "      <td>0.921391</td>\n",
       "    </tr>\n",
       "    <tr>\n",
       "      <th>247</th>\n",
       "      <td>concave points_mean</td>\n",
       "      <td>concavity_mean</td>\n",
       "      <td>0.921391</td>\n",
       "    </tr>\n",
       "    <tr>\n",
       "      <th>662</th>\n",
       "      <td>texture_worst</td>\n",
       "      <td>texture_mean</td>\n",
       "      <td>0.912045</td>\n",
       "    </tr>\n",
       "    <tr>\n",
       "      <th>81</th>\n",
       "      <td>texture_mean</td>\n",
       "      <td>texture_worst</td>\n",
       "      <td>0.912045</td>\n",
       "    </tr>\n",
       "    <tr>\n",
       "      <th>267</th>\n",
       "      <td>concave points_mean</td>\n",
       "      <td>concave points_worst</td>\n",
       "      <td>0.910155</td>\n",
       "    </tr>\n",
       "    <tr>\n",
       "      <th>848</th>\n",
       "      <td>concave points_worst</td>\n",
       "      <td>concave points_mean</td>\n",
       "      <td>0.910155</td>\n",
       "    </tr>\n",
       "  </tbody>\n",
       "</table>\n",
       "</div>"
      ],
      "text/plain": [
       "               Nome Col 1            Nome Col 2  Correlação\n",
       "91         perimeter_mean           radius_mean    0.997855\n",
       "32            radius_mean        perimeter_mean    0.997855\n",
       "711       perimeter_worst          radius_worst    0.993708\n",
       "652          radius_worst       perimeter_worst    0.993708\n",
       "33            radius_mean             area_mean    0.987357\n",
       "121             area_mean           radius_mean    0.987357\n",
       "123             area_mean        perimeter_mean    0.986507\n",
       "93         perimeter_mean             area_mean    0.986507\n",
       "653          radius_worst            area_worst    0.984015\n",
       "741            area_worst          radius_worst    0.984015\n",
       "743            area_worst       perimeter_worst    0.977578\n",
       "713       perimeter_worst            area_worst    0.977578\n",
       "342             radius_se          perimeter_se    0.972794\n",
       "401          perimeter_se             radius_se    0.972794\n",
       "693       perimeter_worst        perimeter_mean    0.970387\n",
       "112        perimeter_mean       perimeter_worst    0.970387\n",
       "50            radius_mean          radius_worst    0.969539\n",
       "631          radius_worst           radius_mean    0.969539\n",
       "633          radius_worst        perimeter_mean    0.969476\n",
       "110        perimeter_mean          radius_worst    0.969476\n",
       "52            radius_mean       perimeter_worst    0.965137\n",
       "691       perimeter_worst           radius_mean    0.965137\n",
       "140             area_mean          radius_worst    0.962746\n",
       "634          radius_worst             area_mean    0.962746\n",
       "143             area_mean            area_worst    0.959213\n",
       "724            area_worst             area_mean    0.959213\n",
       "142             area_mean       perimeter_worst    0.959120\n",
       "694       perimeter_worst             area_mean    0.959120\n",
       "431               area_se             radius_se    0.951830\n",
       "343             radius_se               area_se    0.951830\n",
       "113        perimeter_mean            area_worst    0.941550\n",
       "723            area_worst        perimeter_mean    0.941550\n",
       "721            area_worst           radius_mean    0.941082\n",
       "53            radius_mean            area_worst    0.941082\n",
       "433               area_se          perimeter_se    0.937655\n",
       "403          perimeter_se               area_se    0.937655\n",
       "217        concavity_mean   concave points_mean    0.921391\n",
       "247   concave points_mean        concavity_mean    0.921391\n",
       "662         texture_worst          texture_mean    0.912045\n",
       "81           texture_mean         texture_worst    0.912045\n",
       "267   concave points_mean  concave points_worst    0.910155\n",
       "848  concave points_worst   concave points_mean    0.910155"
      ]
     },
     "execution_count": 8,
     "metadata": {},
     "output_type": "execute_result"
    }
   ],
   "source": [
    "df_corr.sort_values(['Correlação'], ascending=False)[df_corr['Correlação'] > 0.9]\n"
   ]
  },
  {
   "cell_type": "markdown",
   "id": "fd826ad1-f94d-4a1b-9559-07ebb5571a67",
   "metadata": {},
   "source": [
    "É possível compreender que temos muitos atributos repetivios, com valores altos de correlação entre eles, desta maneira é interessante remover alguns destes atributos, o que irá ajudar, visto que o algoritmo de kNN é muito susceptível a alta dimensionalidade, então é interessantes remover alguns destre atributos"
   ]
  },
  {
   "cell_type": "code",
   "execution_count": 9,
   "id": "021785f3-bc81-4565-9268-509645615609",
   "metadata": {},
   "outputs": [],
   "source": [
    "df_remo = df_corr.sort_values(['Correlação'], ascending=False)[df_corr['Correlação'] > 0.9]"
   ]
  },
  {
   "cell_type": "markdown",
   "id": "2ac31683-d632-4dc1-9b96-c1af81b6d153",
   "metadata": {},
   "source": [
    "É interessante remover alguns destes atributos, mas não ambos, apenas um dos dois deve ser removido, visto que o outro atributo ainda terá as informações do atributo antes de ser removido."
   ]
  },
  {
   "cell_type": "code",
   "execution_count": 10,
   "id": "67b6e9bc-9a50-48bb-8646-1270bcc1f28c",
   "metadata": {},
   "outputs": [],
   "source": [
    "aux = df_remo.copy()\n",
    "\n",
    "feats = []\n",
    "while aux.shape[0] != 0:\n",
    "    \n",
    "    r = aux.iloc[0,0]\n",
    "    \n",
    "    aux = aux[ (aux['Nome Col 1'] != r) & (aux['Nome Col 2'] != r)]\n",
    "    \n",
    "    feats.append(r)"
   ]
  },
  {
   "cell_type": "code",
   "execution_count": 11,
   "id": "997c7df6-7326-465d-9857-37037a41e97b",
   "metadata": {},
   "outputs": [
    {
     "data": {
      "text/plain": [
       "['perimeter_mean',\n",
       " 'perimeter_worst',\n",
       " 'radius_mean',\n",
       " 'radius_worst',\n",
       " 'radius_se',\n",
       " 'area_mean',\n",
       " 'area_se',\n",
       " 'concavity_mean',\n",
       " 'texture_worst',\n",
       " 'concave points_mean']"
      ]
     },
     "execution_count": 11,
     "metadata": {},
     "output_type": "execute_result"
    }
   ],
   "source": [
    "feats"
   ]
  },
  {
   "cell_type": "code",
   "execution_count": 12,
   "id": "3e6d2784-a256-45e3-aa1d-c83f89fcc586",
   "metadata": {},
   "outputs": [],
   "source": [
    "df.drop(feats,axis=1,inplace=True)"
   ]
  },
  {
   "cell_type": "markdown",
   "id": "41c9747f-94d2-4c96-b93f-ff5332e0b535",
   "metadata": {},
   "source": [
    "## Verificando outliers"
   ]
  },
  {
   "cell_type": "markdown",
   "id": "f67f704c-fb3f-4227-9817-eb35589eb264",
   "metadata": {},
   "source": [
    "COmo se trata de um algoritmo baseado em distância é necessário tratar os outliers para evitar problemas na hora da classificação"
   ]
  },
  {
   "cell_type": "code",
   "execution_count": 21,
   "id": "31e8c2d4-a8ed-4820-829d-5e579f3a9fab",
   "metadata": {},
   "outputs": [
    {
     "data": {
      "text/html": [
       "<div>\n",
       "<style scoped>\n",
       "    .dataframe tbody tr th:only-of-type {\n",
       "        vertical-align: middle;\n",
       "    }\n",
       "\n",
       "    .dataframe tbody tr th {\n",
       "        vertical-align: top;\n",
       "    }\n",
       "\n",
       "    .dataframe thead th {\n",
       "        text-align: right;\n",
       "    }\n",
       "</style>\n",
       "<table border=\"1\" class=\"dataframe\">\n",
       "  <thead>\n",
       "    <tr style=\"text-align: right;\">\n",
       "      <th></th>\n",
       "      <th>id</th>\n",
       "      <th>texture_mean</th>\n",
       "      <th>smoothness_mean</th>\n",
       "      <th>compactness_mean</th>\n",
       "      <th>symmetry_mean</th>\n",
       "      <th>fractal_dimension_mean</th>\n",
       "      <th>texture_se</th>\n",
       "      <th>perimeter_se</th>\n",
       "      <th>smoothness_se</th>\n",
       "      <th>compactness_se</th>\n",
       "      <th>...</th>\n",
       "      <th>concave points_se</th>\n",
       "      <th>symmetry_se</th>\n",
       "      <th>fractal_dimension_se</th>\n",
       "      <th>area_worst</th>\n",
       "      <th>smoothness_worst</th>\n",
       "      <th>compactness_worst</th>\n",
       "      <th>concavity_worst</th>\n",
       "      <th>concave points_worst</th>\n",
       "      <th>symmetry_worst</th>\n",
       "      <th>fractal_dimension_worst</th>\n",
       "    </tr>\n",
       "  </thead>\n",
       "  <tbody>\n",
       "    <tr>\n",
       "      <th>count</th>\n",
       "      <td>5.690000e+02</td>\n",
       "      <td>569.000000</td>\n",
       "      <td>569.000000</td>\n",
       "      <td>569.000000</td>\n",
       "      <td>569.000000</td>\n",
       "      <td>569.000000</td>\n",
       "      <td>569.000000</td>\n",
       "      <td>569.000000</td>\n",
       "      <td>569.000000</td>\n",
       "      <td>569.000000</td>\n",
       "      <td>...</td>\n",
       "      <td>569.000000</td>\n",
       "      <td>569.000000</td>\n",
       "      <td>569.000000</td>\n",
       "      <td>569.000000</td>\n",
       "      <td>569.000000</td>\n",
       "      <td>569.000000</td>\n",
       "      <td>569.000000</td>\n",
       "      <td>569.000000</td>\n",
       "      <td>569.000000</td>\n",
       "      <td>569.000000</td>\n",
       "    </tr>\n",
       "    <tr>\n",
       "      <th>mean</th>\n",
       "      <td>3.037183e+07</td>\n",
       "      <td>19.289649</td>\n",
       "      <td>0.096360</td>\n",
       "      <td>0.104341</td>\n",
       "      <td>0.181162</td>\n",
       "      <td>0.062798</td>\n",
       "      <td>1.216853</td>\n",
       "      <td>2.866059</td>\n",
       "      <td>0.007041</td>\n",
       "      <td>0.025478</td>\n",
       "      <td>...</td>\n",
       "      <td>0.011796</td>\n",
       "      <td>0.020542</td>\n",
       "      <td>0.003795</td>\n",
       "      <td>880.583128</td>\n",
       "      <td>0.132369</td>\n",
       "      <td>0.254265</td>\n",
       "      <td>0.272188</td>\n",
       "      <td>0.114606</td>\n",
       "      <td>0.290076</td>\n",
       "      <td>0.083946</td>\n",
       "    </tr>\n",
       "    <tr>\n",
       "      <th>std</th>\n",
       "      <td>1.250206e+08</td>\n",
       "      <td>4.301036</td>\n",
       "      <td>0.014064</td>\n",
       "      <td>0.052813</td>\n",
       "      <td>0.027414</td>\n",
       "      <td>0.007060</td>\n",
       "      <td>0.551648</td>\n",
       "      <td>2.021855</td>\n",
       "      <td>0.003003</td>\n",
       "      <td>0.017908</td>\n",
       "      <td>...</td>\n",
       "      <td>0.006170</td>\n",
       "      <td>0.008266</td>\n",
       "      <td>0.002646</td>\n",
       "      <td>569.356993</td>\n",
       "      <td>0.022832</td>\n",
       "      <td>0.157336</td>\n",
       "      <td>0.208624</td>\n",
       "      <td>0.065732</td>\n",
       "      <td>0.061867</td>\n",
       "      <td>0.018061</td>\n",
       "    </tr>\n",
       "    <tr>\n",
       "      <th>min</th>\n",
       "      <td>8.670000e+03</td>\n",
       "      <td>9.710000</td>\n",
       "      <td>0.052630</td>\n",
       "      <td>0.019380</td>\n",
       "      <td>0.106000</td>\n",
       "      <td>0.049960</td>\n",
       "      <td>0.360200</td>\n",
       "      <td>0.757000</td>\n",
       "      <td>0.001713</td>\n",
       "      <td>0.002252</td>\n",
       "      <td>...</td>\n",
       "      <td>0.000000</td>\n",
       "      <td>0.007882</td>\n",
       "      <td>0.000895</td>\n",
       "      <td>185.200000</td>\n",
       "      <td>0.071170</td>\n",
       "      <td>0.027290</td>\n",
       "      <td>0.000000</td>\n",
       "      <td>0.000000</td>\n",
       "      <td>0.156500</td>\n",
       "      <td>0.055040</td>\n",
       "    </tr>\n",
       "    <tr>\n",
       "      <th>25%</th>\n",
       "      <td>8.692180e+05</td>\n",
       "      <td>16.170000</td>\n",
       "      <td>0.086370</td>\n",
       "      <td>0.064920</td>\n",
       "      <td>0.161900</td>\n",
       "      <td>0.057700</td>\n",
       "      <td>0.833900</td>\n",
       "      <td>1.606000</td>\n",
       "      <td>0.005169</td>\n",
       "      <td>0.013080</td>\n",
       "      <td>...</td>\n",
       "      <td>0.007638</td>\n",
       "      <td>0.015160</td>\n",
       "      <td>0.002248</td>\n",
       "      <td>515.300000</td>\n",
       "      <td>0.116600</td>\n",
       "      <td>0.147200</td>\n",
       "      <td>0.114500</td>\n",
       "      <td>0.064930</td>\n",
       "      <td>0.250400</td>\n",
       "      <td>0.071460</td>\n",
       "    </tr>\n",
       "    <tr>\n",
       "      <th>50%</th>\n",
       "      <td>9.060240e+05</td>\n",
       "      <td>18.840000</td>\n",
       "      <td>0.095870</td>\n",
       "      <td>0.092630</td>\n",
       "      <td>0.179200</td>\n",
       "      <td>0.061540</td>\n",
       "      <td>1.108000</td>\n",
       "      <td>2.287000</td>\n",
       "      <td>0.006380</td>\n",
       "      <td>0.020450</td>\n",
       "      <td>...</td>\n",
       "      <td>0.010930</td>\n",
       "      <td>0.018730</td>\n",
       "      <td>0.003187</td>\n",
       "      <td>686.500000</td>\n",
       "      <td>0.131300</td>\n",
       "      <td>0.211900</td>\n",
       "      <td>0.226700</td>\n",
       "      <td>0.099930</td>\n",
       "      <td>0.282200</td>\n",
       "      <td>0.080040</td>\n",
       "    </tr>\n",
       "    <tr>\n",
       "      <th>75%</th>\n",
       "      <td>8.813129e+06</td>\n",
       "      <td>21.800000</td>\n",
       "      <td>0.105300</td>\n",
       "      <td>0.130400</td>\n",
       "      <td>0.195700</td>\n",
       "      <td>0.066120</td>\n",
       "      <td>1.474000</td>\n",
       "      <td>3.357000</td>\n",
       "      <td>0.008146</td>\n",
       "      <td>0.032450</td>\n",
       "      <td>...</td>\n",
       "      <td>0.014710</td>\n",
       "      <td>0.023480</td>\n",
       "      <td>0.004558</td>\n",
       "      <td>1084.000000</td>\n",
       "      <td>0.146000</td>\n",
       "      <td>0.339100</td>\n",
       "      <td>0.382900</td>\n",
       "      <td>0.161400</td>\n",
       "      <td>0.317900</td>\n",
       "      <td>0.092080</td>\n",
       "    </tr>\n",
       "    <tr>\n",
       "      <th>max</th>\n",
       "      <td>9.113205e+08</td>\n",
       "      <td>39.280000</td>\n",
       "      <td>0.163400</td>\n",
       "      <td>0.345400</td>\n",
       "      <td>0.304000</td>\n",
       "      <td>0.097440</td>\n",
       "      <td>4.885000</td>\n",
       "      <td>21.980000</td>\n",
       "      <td>0.031130</td>\n",
       "      <td>0.135400</td>\n",
       "      <td>...</td>\n",
       "      <td>0.052790</td>\n",
       "      <td>0.078950</td>\n",
       "      <td>0.029840</td>\n",
       "      <td>4254.000000</td>\n",
       "      <td>0.222600</td>\n",
       "      <td>1.058000</td>\n",
       "      <td>1.252000</td>\n",
       "      <td>0.291000</td>\n",
       "      <td>0.663800</td>\n",
       "      <td>0.207500</td>\n",
       "    </tr>\n",
       "  </tbody>\n",
       "</table>\n",
       "<p>8 rows × 21 columns</p>\n",
       "</div>"
      ],
      "text/plain": [
       "                 id  texture_mean  smoothness_mean  compactness_mean  \\\n",
       "count  5.690000e+02    569.000000       569.000000        569.000000   \n",
       "mean   3.037183e+07     19.289649         0.096360          0.104341   \n",
       "std    1.250206e+08      4.301036         0.014064          0.052813   \n",
       "min    8.670000e+03      9.710000         0.052630          0.019380   \n",
       "25%    8.692180e+05     16.170000         0.086370          0.064920   \n",
       "50%    9.060240e+05     18.840000         0.095870          0.092630   \n",
       "75%    8.813129e+06     21.800000         0.105300          0.130400   \n",
       "max    9.113205e+08     39.280000         0.163400          0.345400   \n",
       "\n",
       "       symmetry_mean  fractal_dimension_mean  texture_se  perimeter_se  \\\n",
       "count     569.000000              569.000000  569.000000    569.000000   \n",
       "mean        0.181162                0.062798    1.216853      2.866059   \n",
       "std         0.027414                0.007060    0.551648      2.021855   \n",
       "min         0.106000                0.049960    0.360200      0.757000   \n",
       "25%         0.161900                0.057700    0.833900      1.606000   \n",
       "50%         0.179200                0.061540    1.108000      2.287000   \n",
       "75%         0.195700                0.066120    1.474000      3.357000   \n",
       "max         0.304000                0.097440    4.885000     21.980000   \n",
       "\n",
       "       smoothness_se  compactness_se  ...  concave points_se  symmetry_se  \\\n",
       "count     569.000000      569.000000  ...         569.000000   569.000000   \n",
       "mean        0.007041        0.025478  ...           0.011796     0.020542   \n",
       "std         0.003003        0.017908  ...           0.006170     0.008266   \n",
       "min         0.001713        0.002252  ...           0.000000     0.007882   \n",
       "25%         0.005169        0.013080  ...           0.007638     0.015160   \n",
       "50%         0.006380        0.020450  ...           0.010930     0.018730   \n",
       "75%         0.008146        0.032450  ...           0.014710     0.023480   \n",
       "max         0.031130        0.135400  ...           0.052790     0.078950   \n",
       "\n",
       "       fractal_dimension_se   area_worst  smoothness_worst  compactness_worst  \\\n",
       "count            569.000000   569.000000        569.000000         569.000000   \n",
       "mean               0.003795   880.583128          0.132369           0.254265   \n",
       "std                0.002646   569.356993          0.022832           0.157336   \n",
       "min                0.000895   185.200000          0.071170           0.027290   \n",
       "25%                0.002248   515.300000          0.116600           0.147200   \n",
       "50%                0.003187   686.500000          0.131300           0.211900   \n",
       "75%                0.004558  1084.000000          0.146000           0.339100   \n",
       "max                0.029840  4254.000000          0.222600           1.058000   \n",
       "\n",
       "       concavity_worst  concave points_worst  symmetry_worst  \\\n",
       "count       569.000000            569.000000      569.000000   \n",
       "mean          0.272188              0.114606        0.290076   \n",
       "std           0.208624              0.065732        0.061867   \n",
       "min           0.000000              0.000000        0.156500   \n",
       "25%           0.114500              0.064930        0.250400   \n",
       "50%           0.226700              0.099930        0.282200   \n",
       "75%           0.382900              0.161400        0.317900   \n",
       "max           1.252000              0.291000        0.663800   \n",
       "\n",
       "       fractal_dimension_worst  \n",
       "count               569.000000  \n",
       "mean                  0.083946  \n",
       "std                   0.018061  \n",
       "min                   0.055040  \n",
       "25%                   0.071460  \n",
       "50%                   0.080040  \n",
       "75%                   0.092080  \n",
       "max                   0.207500  \n",
       "\n",
       "[8 rows x 21 columns]"
      ]
     },
     "execution_count": 21,
     "metadata": {},
     "output_type": "execute_result"
    }
   ],
   "source": [
    "df.describe()"
   ]
  },
  {
   "cell_type": "markdown",
   "id": "b0263257-9e7e-4745-a980-66df05358e1d",
   "metadata": {},
   "source": [
    "Pode-se perceber que para o atributo area_wrost temos um grande desvio padrão, o que pode indicar a presença de outliers. Assim, vamos verificar este atributo"
   ]
  },
  {
   "cell_type": "code",
   "execution_count": 22,
   "id": "02bf19b8-5540-40d0-b9fc-7b16794c2dd2",
   "metadata": {},
   "outputs": [],
   "source": [
    "area = df['area_worst']"
   ]
  },
  {
   "cell_type": "code",
   "execution_count": 23,
   "id": "714a8928-cdc0-47f1-975d-dfa2f230130a",
   "metadata": {},
   "outputs": [
    {
     "data": {
      "text/plain": [
       "4254.0"
      ]
     },
     "execution_count": 23,
     "metadata": {},
     "output_type": "execute_result"
    }
   ],
   "source": [
    "area.max()"
   ]
  },
  {
   "cell_type": "code",
   "execution_count": 24,
   "id": "dd218801-7146-4f93-8e82-959282bd0a26",
   "metadata": {},
   "outputs": [
    {
     "data": {
      "text/plain": [
       "185.2"
      ]
     },
     "execution_count": 24,
     "metadata": {},
     "output_type": "execute_result"
    }
   ],
   "source": [
    "area.min()"
   ]
  },
  {
   "cell_type": "code",
   "execution_count": 25,
   "id": "4db78d6e-412a-448b-9a39-50c588cce604",
   "metadata": {},
   "outputs": [
    {
     "data": {
      "text/plain": [
       "880.5831282952548"
      ]
     },
     "execution_count": 25,
     "metadata": {},
     "output_type": "execute_result"
    }
   ],
   "source": [
    "area.mean()"
   ]
  },
  {
   "cell_type": "code",
   "execution_count": 26,
   "id": "b1af0583-954d-4f5f-9dc4-2f5bf8bde750",
   "metadata": {},
   "outputs": [
    {
     "data": {
      "image/png": "[encoded data removed]",
      "text/plain": [
       "<Figure size 1000x500 with 1 Axes>"
      ]
     },
     "metadata": {},
     "output_type": "display_data"
    }
   ],
   "source": [
    "sns.set(style=\"darkgrid\")\n",
    "\n",
    "sns.kdeplot(x=area.values,fill=True, bw_method=0.05, color='olive')\n",
    "\n",
    "plt.xlabel(\"Valores\")\n",
    "\n",
    "plt.title(\"Distribuição do atributo area_worst\")\n",
    "plt.show()"
   ]
  },
  {
   "cell_type": "markdown",
   "id": "0b8fa7a6-2971-4b1c-b0b1-5d07a19cbaf9",
   "metadata": {},
   "source": [
    "Podemos perceber que existe uma grande concentração de valores entre 0 e 1000, e poucos valores após isos, principlamente após 4000. É interessante verificar se isto está relacionado a algum tipo de classe"
   ]
  },
  {
   "cell_type": "code",
   "execution_count": 27,
   "id": "d7ba7845-4a56-4970-b9c8-db1476cdad5c",
   "metadata": {},
   "outputs": [
    {
     "data": {
      "text/plain": [
       "M    150\n",
       "B      3\n",
       "Name: diagnosis, dtype: int64"
      ]
     },
     "execution_count": 27,
     "metadata": {},
     "output_type": "execute_result"
    }
   ],
   "source": [
    "df[df['area_worst'] > 1000]['diagnosis'].value_counts()"
   ]
  },
  {
   "cell_type": "markdown",
   "id": "921c778e-403b-4d40-b42c-88735f6b78b4",
   "metadata": {},
   "source": [
    "Podemos compreender que esta característica está diretamente relacionada com a classe principla, tendo em vista que a partir de 1000 de área, a tendência é que o cancer seja maligno, desta maneira podemos manter este atributo nesta distribuição visto que este valor irá ajudar na classificação"
   ]
  },
  {
   "cell_type": "markdown",
   "id": "1fc46879-b8cd-4687-b289-e7152ba07c2a",
   "metadata": {},
   "source": [
    "## Remoção de alguns atributos irrelevantes"
   ]
  },
  {
   "cell_type": "code",
   "execution_count": 28,
   "id": "4583f423-25b4-4375-912c-f197c3da173a",
   "metadata": {},
   "outputs": [
    {
     "data": {
      "text/plain": [
       "Index(['id', 'diagnosis', 'texture_mean', 'smoothness_mean',\n",
       "       'compactness_mean', 'symmetry_mean', 'fractal_dimension_mean',\n",
       "       'texture_se', 'perimeter_se', 'smoothness_se', 'compactness_se',\n",
       "       'concavity_se', 'concave points_se', 'symmetry_se',\n",
       "       'fractal_dimension_se', 'area_worst', 'smoothness_worst',\n",
       "       'compactness_worst', 'concavity_worst', 'concave points_worst',\n",
       "       'symmetry_worst', 'fractal_dimension_worst'],\n",
       "      dtype='object')"
      ]
     },
     "execution_count": 28,
     "metadata": {},
     "output_type": "execute_result"
    }
   ],
   "source": [
    "df.columns"
   ]
  },
  {
   "cell_type": "markdown",
   "id": "7dcf322f-c94c-4ea3-9346-4e9a4e2ab0b7",
   "metadata": {},
   "source": [
    "O unico atributo que é irrelevante e pode ser retirado é o id que é apenas a identifcação do paciente"
   ]
  },
  {
   "cell_type": "code",
   "execution_count": 13,
   "id": "6296819a-047f-4765-b6a3-e89728e65ec5",
   "metadata": {},
   "outputs": [],
   "source": [
    "df.drop('id',axis=1,inplace=True)"
   ]
  },
  {
   "cell_type": "code",
   "execution_count": 14,
   "id": "8ba4b3d7-e537-40c2-b820-8ea51a2668f0",
   "metadata": {},
   "outputs": [],
   "source": [
    "# Separando a classe alvo do resto do conjunto de dados\n",
    "y = df['diagnosis']"
   ]
  },
  {
   "cell_type": "code",
   "execution_count": 15,
   "id": "e09cd5d7-d663-47b6-a34a-38f8d38c1ab4",
   "metadata": {},
   "outputs": [],
   "source": [
    "X = df.drop('diagnosis',axis=1)"
   ]
  },
  {
   "cell_type": "code",
   "execution_count": 16,
   "id": "01f5d1f0-4899-4b3b-abd6-10818d2a4b28",
   "metadata": {},
   "outputs": [],
   "source": [
    "assert y.shape[0] == X.shape[0]"
   ]
  },
  {
   "cell_type": "markdown",
   "id": "6fad9ecc-262e-4439-a3b1-144b5f9d4a50",
   "metadata": {},
   "source": [
    "## Separando dados em treino e teste"
   ]
  },
  {
   "cell_type": "code",
   "execution_count": 17,
   "id": "b77a67af-2e57-4d24-8fd7-3be90a430215",
   "metadata": {},
   "outputs": [],
   "source": [
    "from sklearn.model_selection import train_test_split"
   ]
  },
  {
   "cell_type": "code",
   "execution_count": 18,
   "id": "daf9f51c-9590-4969-bc28-e51b99c66fe4",
   "metadata": {},
   "outputs": [],
   "source": [
    "X_train, X_test, y_train, y_test = train_test_split(\n",
    "     X, y, test_size=0.3, random_state=42)"
   ]
  },
  {
   "cell_type": "markdown",
   "id": "226c67d2-3ea8-4d08-9cd8-d639c3528737",
   "metadata": {},
   "source": [
    "Após isto, precisamos normalizar os conjunto de treino e teste visto que estamos trabalhando com um algoritmo que calcula a distância entre os objetos, e desta maneira uma grande variação entre os valores dos atributos pode resultar em predominância de um único atributo"
   ]
  },
  {
   "cell_type": "code",
   "execution_count": 19,
   "id": "bb1be063-f2c2-4829-9679-243621a48a60",
   "metadata": {},
   "outputs": [],
   "source": [
    "from sklearn.preprocessing import MinMaxScaler"
   ]
  },
  {
   "cell_type": "code",
   "execution_count": 20,
   "id": "01142587-075b-4c3a-9f99-cfc6a900e2a6",
   "metadata": {},
   "outputs": [],
   "source": [
    "scaler = MinMaxScaler()"
   ]
  },
  {
   "cell_type": "code",
   "execution_count": 21,
   "id": "ccda1bee-aa40-475d-9763-1627a78bd41a",
   "metadata": {},
   "outputs": [],
   "source": [
    "X_train = scaler.fit_transform(X_train)\n",
    "X_test = scaler.fit_transform(X_test)"
   ]
  },
  {
   "cell_type": "code",
   "execution_count": 22,
   "id": "991f7ac2-79aa-4f2a-acb6-f8abe1a2e30c",
   "metadata": {},
   "outputs": [
    {
     "data": {
      "text/plain": [
       "(398, 20)"
      ]
     },
     "execution_count": 22,
     "metadata": {},
     "output_type": "execute_result"
    }
   ],
   "source": [
    "X_train.shape"
   ]
  },
  {
   "cell_type": "code",
   "execution_count": 23,
   "id": "9207d7b9-16c7-476a-b6bd-06dcd1e2bd13",
   "metadata": {},
   "outputs": [],
   "source": [
    "def transform(x):\n",
    "    if x == 'M':\n",
    "        return 1\n",
    "    return 0"
   ]
  },
  {
   "cell_type": "code",
   "execution_count": 24,
   "id": "cffd9310-5001-4024-aa23-5be5a893607b",
   "metadata": {},
   "outputs": [],
   "source": [
    "vfunc = np.vectorize(transform)"
   ]
  },
  {
   "cell_type": "code",
   "execution_count": 25,
   "id": "1dd69469-357e-4a88-a9ab-0ce6d112cd37",
   "metadata": {},
   "outputs": [],
   "source": [
    "y_train = vfunc(y_train)\n",
    "y_test = vfunc(y_test)"
   ]
  },
  {
   "cell_type": "markdown",
   "id": "4f39d479-36bb-4266-8019-e9946bdfe08c",
   "metadata": {},
   "source": [
    "# Classificação"
   ]
  },
  {
   "cell_type": "markdown",
   "id": "44355c5b-c03d-4086-8e5d-f70757abed25",
   "metadata": {},
   "source": [
    "Para realizar a classificação utilizaremos uma bibilioteca que contém a busca pelos vizinhos mais próximos aproximados, o que faz com que o problema possar ser escalável, o que é muito interessante para grandes conjuntos de dados.\n",
    "\n",
    "Além disso, utilizaremos GPU para acelerar mais ainda o processo. Entretanto como este conjunto de dados é pequeno a diferença não seja notável, mas com este algoritmo e implementação, seriámos capazes de lidar com grandes conjuntos de dados sem ter problema com o alto número de amostras."
   ]
  },
  {
   "cell_type": "markdown",
   "id": "93417baf-32bf-410a-b56e-cecc6f73b95a",
   "metadata": {},
   "source": [
    "Neste caso iremos avaliar 3 algoritmos de kNN: Força Bruta, IVFFLat e IVFPQ, e verificar como eles se comportam. É claro que o algoritmo de força bruta irá conseguir os melhores resultados, visto que da os vizinhos exatos, mas ao utilizar métodos aproximados temos a chance de lidar com maiores conjuntos de dados, visto que a complexidade do problema é reduzida. Além disso, estes algoritmos contém suporte para multi-GPU oque iria acelerar mais ainda os processos."
   ]
  },
  {
   "cell_type": "code",
   "execution_count": 26,
   "id": "5df7a7e6-6353-48c2-a908-79b43b22ab46",
   "metadata": {},
   "outputs": [],
   "source": [
    "class MultiGPUIndex:\n",
    "\n",
    "    #Construtor da classe\n",
    "    def __init__(self, k):\n",
    "        \n",
    "        self.k = k\n",
    "\n",
    "    \n",
    "    def fit(self,X,y):\n",
    "        self.index.add(X)\n",
    "        self.labels = y\n",
    "        \n",
    "        \n",
    "    def predict(self,X):\n",
    "\n",
    "        \"\"\"\n",
    "        This functions performs the search of the kNN and them return the indices of them\n",
    "        \"\"\"\n",
    "\n",
    "        _, I = self.index.search(X,self.k)\n",
    "\n",
    "        I = I[:,1:]\n",
    "        \n",
    "        vals = pd.unique(self.labels)\n",
    "    \n",
    "        dic = {}\n",
    "    \n",
    "        n,_ = I.shape\n",
    "        \n",
    "        predicted_data = np.zeros((n,1))\n",
    "        \n",
    "        for index,vetor in enumerate(I):\n",
    "    \n",
    "            #Inicializa a enqute\n",
    "            for name in vals:\n",
    "                dic[name] = 0\n",
    "    \n",
    "            for i in vetor:\n",
    "                label = self.labels[i]\n",
    "                dic[label] += 1\n",
    "            predicted_data[index] = max(dic, key = lambda x: dic[x])  \n",
    "\n",
    "            \n",
    "        return predicted_data\n",
    "\n"
   ]
  },
  {
   "cell_type": "markdown",
   "id": "c2ce5c1d-cc77-475b-a775-6159580aa304",
   "metadata": {},
   "source": [
    "## Algoritmo Força Bruta"
   ]
  },
  {
   "cell_type": "code",
   "execution_count": 27,
   "id": "8f2a45c9-fc41-4f67-a13d-7ace5a99b133",
   "metadata": {},
   "outputs": [],
   "source": [
    "class MultiBrute(MultiGPUIndex):\n",
    "\n",
    "    def __init__(self,k,dimensions):\n",
    "        super().__init__(k)\n",
    "\n",
    "        ## Multi-GPU config\n",
    "        self.res = faiss.StandardGpuResources()\n",
    "        self.co = faiss.GpuIndexFlatConfig()\n",
    "\n",
    "        ## Make the index on CPU\n",
    "        self.index = faiss.GpuIndexFlatL2(self.res, dimensions, self.co)\n",
    "        \n",
    "\n",
    "\n",
    "\n"
   ]
  },
  {
   "cell_type": "code",
   "execution_count": 28,
   "id": "f3e10783-6ae2-439c-a7ac-288d84bb9231",
   "metadata": {},
   "outputs": [],
   "source": [
    "a = MultiBrute(k=13,dimensions=20)"
   ]
  },
  {
   "cell_type": "code",
   "execution_count": 29,
   "id": "0a5606a7-394d-4c10-a12b-40aeec653cc4",
   "metadata": {},
   "outputs": [],
   "source": [
    "a.fit(X_train,y_train)"
   ]
  },
  {
   "cell_type": "code",
   "execution_count": 30,
   "id": "4a0e8489-4944-4447-9bf1-df9307cd04e5",
   "metadata": {},
   "outputs": [],
   "source": [
    "y_pred = a.predict(X_test)"
   ]
  },
  {
   "cell_type": "code",
   "execution_count": 31,
   "id": "f4bd7ea7-c646-475d-8105-3ea6105bdea5",
   "metadata": {},
   "outputs": [
    {
     "data": {
      "text/plain": [
       "0.9532163742690059"
      ]
     },
     "execution_count": 31,
     "metadata": {},
     "output_type": "execute_result"
    }
   ],
   "source": [
    "from sklearn.metrics import accuracy_score\n",
    "\n",
    "\n",
    "accuracy_score(y_test, y_pred)"
   ]
  },
  {
   "cell_type": "code",
   "execution_count": 32,
   "id": "c71b74cd-c8fa-4bbd-9fce-10da1f1c361b",
   "metadata": {},
   "outputs": [],
   "source": [
    "del a,y_pred"
   ]
  },
  {
   "cell_type": "markdown",
   "id": "66e80de0-8bf3-4bb1-95bf-bc0022b162be",
   "metadata": {},
   "source": [
    "## Algoritmo IVFFlat"
   ]
  },
  {
   "cell_type": "code",
   "execution_count": 33,
   "id": "5b79abd7-7d30-49d5-b45c-cacda800914e",
   "metadata": {},
   "outputs": [],
   "source": [
    "class MultiIVFFlat(MultiGPUIndex):\n",
    "\n",
    "    def __init__(self,k,dimensions,nprobe,nlist):\n",
    "        super().__init__(k)\n",
    "\n",
    "        ## Approximate method settings\n",
    "        self.nprobe = nprobe\n",
    "        self.nlist = nlist\n",
    "\n",
    "        self.res = faiss.StandardGpuResources()\n",
    "        self.config = faiss.GpuIndexIVFFlatConfig()\n",
    "\n",
    "        self.index = faiss.GpuIndexIVFFlat(self.res, dimensions, nlist, faiss.METRIC_L2,self.config)\n",
    "        self.index.setNumProbes(nprobe)\n",
    "\n",
    "\n",
    "    def fit(self,X,y):\n",
    "        self.index.train(X[:int(1e6)])\n",
    "        super().fit(X,y)\n",
    "\n"
   ]
  },
  {
   "cell_type": "code",
   "execution_count": 34,
   "id": "7f3ba15c-580a-4565-838f-78418c3ccd28",
   "metadata": {},
   "outputs": [],
   "source": [
    "obj = MultiIVFFlat(k=13,dimensions=20,nprobe=2,nlist=10)"
   ]
  },
  {
   "cell_type": "code",
   "execution_count": 35,
   "id": "66cd2a14-c0ee-4971-a260-80c8d174461e",
   "metadata": {},
   "outputs": [],
   "source": [
    "obj.fit(X_train,y_train)"
   ]
  },
  {
   "cell_type": "code",
   "execution_count": 36,
   "id": "a9a13a0d-bc49-40a5-aa9f-33d17dba9314",
   "metadata": {},
   "outputs": [],
   "source": [
    "y_pred = obj.predict(X_test)"
   ]
  },
  {
   "cell_type": "code",
   "execution_count": 37,
   "id": "82db7e43-1ecf-48ef-bf52-1124014ace8b",
   "metadata": {},
   "outputs": [
    {
     "data": {
      "text/plain": [
       "0.9415204678362573"
      ]
     },
     "execution_count": 37,
     "metadata": {},
     "output_type": "execute_result"
    }
   ],
   "source": [
    "from sklearn.metrics import accuracy_score\n",
    "\n",
    "\n",
    "accuracy_score(y_test, y_pred)"
   ]
  },
  {
   "cell_type": "code",
   "execution_count": 38,
   "id": "91496114-d97c-44f0-943c-7f1948a7fe89",
   "metadata": {},
   "outputs": [],
   "source": [
    "del obj,y_pred"
   ]
  },
  {
   "cell_type": "markdown",
   "id": "27aff494-93db-44f8-ad6d-5d43948fc96d",
   "metadata": {},
   "source": [
    "## Algoritmo IVFPQ"
   ]
  },
  {
   "cell_type": "code",
   "execution_count": 39,
   "id": "88996647-dc25-4742-adb0-ab29a15f4636",
   "metadata": {},
   "outputs": [],
   "source": [
    "class MultiIVFPQ(MultiGPUIndex):\n",
    "\n",
    "    def __init__(self,k,dimensions,nprobe,nlist):\n",
    "        super().__init__(k)\n",
    "\n",
    "        ## Approximate method settings\n",
    "        self.nprobe = nprobe\n",
    "        self.nlist = nlist\n",
    "\n",
    "        # we need only a StandardGpuResources per GPU\n",
    "        res = faiss.StandardGpuResources()\n",
    "        flat_config = faiss.GpuIndexFlatConfig()\n",
    "    \n",
    "        index = faiss.GpuIndexFlatL2(res, dimensions, flat_config)    \n",
    "    \n",
    "        M_list = [1, 2, 3, 4, 8, 12, 16, 20, 24, 28, 32, 48, 56, 64, 96] \n",
    "        M = dimensions\n",
    "        count = len(M_list)-1\n",
    "        while M % M_list[count] != 0:\n",
    "            count -= 1\n",
    "            if count == 0:\n",
    "                break\n",
    "        M = M_list[count]\n",
    "\n",
    "        \n",
    "        index = faiss.index_factory(dimensions, f\"IVF{nlist},PQ{M}\")\n",
    "\n",
    "        index.pq.cp.min_points_per_centroid = 1\n",
    "        co = faiss.GpuClonerOptions()\n",
    "        \n",
    "        if M >= 56:\n",
    "            co.useFloat16 = True\n",
    "    \n",
    "        self.index = faiss.index_cpu_to_gpu(res, 0, index, co)\n",
    "\n",
    "        self.index.setNumProbes(nprobe)\n",
    "\n",
    "\n",
    "    def fit(self,X,y):\n",
    "        self.index.train(X[:int(1e6)])\n",
    "        super().fit(X,y)"
   ]
  },
  {
   "cell_type": "code",
   "execution_count": 40,
   "id": "5c993dfa-d1d2-4b81-90c8-f33db1bde5c3",
   "metadata": {},
   "outputs": [],
   "source": [
    "obj = MultiIVFPQ(k=13,dimensions=20,nprobe=10,nlist=10)"
   ]
  },
  {
   "cell_type": "code",
   "execution_count": 41,
   "id": "4b148abd-6a62-42ef-98f4-c5efbcf53055",
   "metadata": {},
   "outputs": [],
   "source": [
    "obj.fit(X_train,y_train)"
   ]
  },
  {
   "cell_type": "code",
   "execution_count": 42,
   "id": "f1f21aa7-6f71-4711-9438-3bb111eec5e5",
   "metadata": {},
   "outputs": [],
   "source": [
    "y_pred = obj.predict(X_test)"
   ]
  },
  {
   "cell_type": "code",
   "execution_count": 43,
   "id": "a34fb173-915c-4eac-91f3-4d7d7925b8b5",
   "metadata": {},
   "outputs": [
    {
     "data": {
      "text/plain": [
       "0.9532163742690059"
      ]
     },
     "execution_count": 43,
     "metadata": {},
     "output_type": "execute_result"
    }
   ],
   "source": [
    "from sklearn.metrics import accuracy_score\n",
    "\n",
    "\n",
    "accuracy_score(y_test, y_pred)"
   ]
  },
  {
   "cell_type": "code",
   "execution_count": 44,
   "id": "5a841fd1-3c72-4a50-8bdd-9833a86b779b",
   "metadata": {},
   "outputs": [],
   "source": [
    "del obj"
   ]
  },
  {
   "cell_type": "code",
   "execution_count": 45,
   "id": "f681e4af-4aae-4bd3-929a-5c19e60fe31e",
   "metadata": {},
   "outputs": [],
   "source": [
    "del y_pred"
   ]
  },
  {
   "cell_type": "markdown",
   "id": "09ffd9ef-aac7-48b7-bd3b-0a71f2aec3ba",
   "metadata": {},
   "source": [
    "# Primeira análise"
   ]
  },
  {
   "cell_type": "markdown",
   "id": "f4be64ae-b19c-46c2-9954-830f8185f579",
   "metadata": {},
   "source": [
    "Todos os algoritmos obtiveram resultados muito bons, atingindo na maioria dos casos, mais de 95% de acertos. Entretanto, após em rápido estudo no conceito destes algoritmos foi possível identificar que:\n",
    "\n",
    "- O algoritmo por força bruta, embora seja muito bom em pequenos conjuntos de dados, por ter uma complexidade assintótica de O(n²), não é um algoritmo interessante para ser estudado quando se pensa em escalabilidade.\n",
    "\n",
    "- O algoritmo IVFFLat tem um grand problema em relação a memória, tendo em vista que utiliza bastante memória durante sua execução\n",
    "\n",
    "- O algoritmo IVFPQ Parece perfeito para quando se deseja trabalhar com grandes conjuntos de dados, visto que realiza uma compressão dos vetores, limitando a memória utilizada pelo método e mesmo assim, atingindo bons resultados."
   ]
  },
  {
   "cell_type": "markdown",
   "id": "d15808c1-7f6c-4a60-98e9-ee3916c795d9",
   "metadata": {},
   "source": [
    "Dessa maneira, um estudo mais profundo será feito utilizando o IVFPQ, modificando seus parâmetros e entendendo sua ideia"
   ]
  },
  {
   "cell_type": "markdown",
   "id": "5f94f3cb-c73a-47fc-b881-8a4e5b53f8f4",
   "metadata": {},
   "source": [
    "Os dois principais parâmetros do algoritmo IVFPQ é nprobe e nlist. Esse parametros se referem ao seguinte:\n",
    "\n",
    "- NList: Como o algoritmo utiliza a ideia de que é possível evitar a busca exata por meio de mapeamentos de vetores para certas regiões de um novo espaço de dados, que são as partições, essa partições agrupam vetor de treino similares.\n",
    "- Nprobe: Com as partições é possível procurar apenas nas partições mais próximos, evitando a comparação com todos os vetores do conjunto de dados, e desta maneira, este valor controla quantas partições serão procuradas, nota-se que caso o número de nlist e nprobe sejam iguais, estaríamos realizand a busca exata"
   ]
  },
  {
   "cell_type": "markdown",
   "id": "cc8afa32-838c-47c8-a8a0-09bec8a516b9",
   "metadata": {},
   "source": [
    "Desta maneira, precisámos entender como funciona cada parâmetro (o número de vizinhos também é um importante parâmetro)"
   ]
  },
  {
   "cell_type": "markdown",
   "id": "aea4afa1-0eeb-475d-88c2-6e055165c41e",
   "metadata": {},
   "source": [
    "Como a quantidade de dados não é tão grande, os valores de nlist poderão será 10, já que não temos uma grande quantidade de dados.\n",
    "\n",
    "Já os valores de nprobe serão 1,2,3,4,5"
   ]
  },
  {
   "cell_type": "markdown",
   "id": "a9008194-7926-4055-9384-7850e8a441ca",
   "metadata": {},
   "source": [
    "Os valores de k poderão varias de 3 à 21.\n",
    "\n",
    "\n",
    "Desta maneira, podemos verificar os resultados no benchmarking abaixo, visando encontrar os melhores parâmetros para o modelo"
   ]
  },
  {
   "cell_type": "code",
   "execution_count": 107,
   "id": "f64ec8fb-8b1f-4f6a-886d-c550e02dcdf3",
   "metadata": {},
   "outputs": [],
   "source": [
    "# Nlist\n",
    "nlist = 10\n",
    "nprobes = [1,2,3,4,5]\n",
    "k = range(3,22,2)"
   ]
  },
  {
   "cell_type": "code",
   "execution_count": 108,
   "id": "1f33d12c-1073-4254-a3df-8d34343350f8",
   "metadata": {},
   "outputs": [],
   "source": [
    "def benchmarking(k,nlist,nprobe):\n",
    "    obj = MultiIVFPQ(k=k,dimensions=20,nprobe=nprobe,nlist=nlist)\n",
    "\n",
    "    obj.fit(X_train,y_train)\n",
    "\n",
    "    y_pred = obj.predict(X_test)\n",
    "\n",
    "    del obj\n",
    "    return accuracy_score(y_test, y_pred)"
   ]
  },
  {
   "cell_type": "code",
   "execution_count": 109,
   "id": "ff1c7173-3534-4d2d-b190-d83d662ae1a5",
   "metadata": {},
   "outputs": [],
   "source": [
    "d = {}\n",
    "for i in k:\n",
    "    d[i] = {}"
   ]
  },
  {
   "cell_type": "markdown",
   "id": "2ba7f674-575d-4dd1-ac83-c73db1ad92e8",
   "metadata": {},
   "source": [
    "Para cada configuração, rodamos o experimento 30 vezes, e depois pegamos a média e o desvio padrão, para podermos obter um medida \n",
    "sem nenhum tipo de interferência e mais correta, já que o nosso campo amostral de resultados é bem maior."
   ]
  },
  {
   "cell_type": "code",
   "execution_count": 126,
   "id": "606b1522-2c0c-4a11-99ab-fb3875374b6c",
   "metadata": {
    "collapsed": true,
    "jupyter": {
     "outputs_hidden": true
    }
   },
   "outputs": [
    {
     "name": "stdout",
     "output_type": "stream",
     "text": [
      "18/1500 (5.114 s) "
     ]
    },
    {
     "ename": "KeyboardInterrupt",
     "evalue": "",
     "output_type": "error",
     "traceback": [
      "\u001b[0;31m---------------------------------------------------------------------------\u001b[0m",
      "\u001b[0;31mKeyboardInterrupt\u001b[0m                         Traceback (most recent call last)",
      "\u001b[0;32m/tmp/ipykernel_6196/3390779282.py\u001b[0m in \u001b[0;36m?\u001b[0;34m()\u001b[0m\n\u001b[1;32m      7\u001b[0m \u001b[0mcurrent_idx\u001b[0m \u001b[0;34m=\u001b[0m \u001b[0;36m0\u001b[0m\u001b[0;34m\u001b[0m\u001b[0;34m\u001b[0m\u001b[0m\n\u001b[1;32m      8\u001b[0m \u001b[0;32mimport\u001b[0m \u001b[0mtime\u001b[0m\u001b[0;34m\u001b[0m\u001b[0;34m\u001b[0m\u001b[0m\n\u001b[1;32m      9\u001b[0m \u001b[0;34m\u001b[0m\u001b[0m\n\u001b[1;32m     10\u001b[0m \u001b[0mt0\u001b[0m \u001b[0;34m=\u001b[0m \u001b[0mtime\u001b[0m\u001b[0;34m.\u001b[0m\u001b[0mtime\u001b[0m\u001b[0;34m(\u001b[0m\u001b[0;34m)\u001b[0m\u001b[0;34m\u001b[0m\u001b[0;34m\u001b[0m\u001b[0m\n\u001b[0;32m---> 11\u001b[0;31m \u001b[0;32mfor\u001b[0m \u001b[0mk_val\u001b[0m \u001b[0;32min\u001b[0m \u001b[0mk\u001b[0m\u001b[0;34m:\u001b[0m\u001b[0;34m\u001b[0m\u001b[0;34m\u001b[0m\u001b[0m\n\u001b[0m\u001b[1;32m     12\u001b[0m     \u001b[0;32mfor\u001b[0m \u001b[0mn\u001b[0m \u001b[0;32min\u001b[0m \u001b[0mnprobes\u001b[0m\u001b[0;34m:\u001b[0m\u001b[0;34m\u001b[0m\u001b[0;34m\u001b[0m\u001b[0m\n\u001b[1;32m     13\u001b[0m \u001b[0;34m\u001b[0m\u001b[0m\n\u001b[1;32m     14\u001b[0m         \u001b[0marr\u001b[0m \u001b[0;34m=\u001b[0m \u001b[0mnp\u001b[0m\u001b[0;34m.\u001b[0m\u001b[0mzeros\u001b[0m\u001b[0;34m(\u001b[0m\u001b[0;36m30\u001b[0m\u001b[0;34m)\u001b[0m\u001b[0;34m\u001b[0m\u001b[0;34m\u001b[0m\u001b[0m\n",
      "\u001b[0;32m/tmp/ipykernel_6196/3920328255.py\u001b[0m in \u001b[0;36m?\u001b[0;34m(k, nlist, nprobe)\u001b[0m\n\u001b[1;32m      1\u001b[0m \u001b[0;32mdef\u001b[0m \u001b[0mbenchmarking\u001b[0m\u001b[0;34m(\u001b[0m\u001b[0mk\u001b[0m\u001b[0;34m,\u001b[0m\u001b[0mnlist\u001b[0m\u001b[0;34m,\u001b[0m\u001b[0mnprobe\u001b[0m\u001b[0;34m)\u001b[0m\u001b[0;34m:\u001b[0m\u001b[0;34m\u001b[0m\u001b[0;34m\u001b[0m\u001b[0m\n\u001b[1;32m      2\u001b[0m     \u001b[0mobj\u001b[0m \u001b[0;34m=\u001b[0m \u001b[0mMultiIVFPQ\u001b[0m\u001b[0;34m(\u001b[0m\u001b[0mk\u001b[0m\u001b[0;34m=\u001b[0m\u001b[0mk\u001b[0m\u001b[0;34m,\u001b[0m\u001b[0mdimensions\u001b[0m\u001b[0;34m=\u001b[0m\u001b[0;36m20\u001b[0m\u001b[0;34m,\u001b[0m\u001b[0mnprobe\u001b[0m\u001b[0;34m=\u001b[0m\u001b[0mnprobe\u001b[0m\u001b[0;34m,\u001b[0m\u001b[0mnlist\u001b[0m\u001b[0;34m=\u001b[0m\u001b[0mnlist\u001b[0m\u001b[0;34m)\u001b[0m\u001b[0;34m\u001b[0m\u001b[0;34m\u001b[0m\u001b[0m\n\u001b[1;32m      3\u001b[0m \u001b[0;34m\u001b[0m\u001b[0m\n\u001b[0;32m----> 4\u001b[0;31m     \u001b[0mobj\u001b[0m\u001b[0;34m.\u001b[0m\u001b[0mfit\u001b[0m\u001b[0;34m(\u001b[0m\u001b[0mX_train\u001b[0m\u001b[0;34m,\u001b[0m\u001b[0my_train\u001b[0m\u001b[0;34m)\u001b[0m\u001b[0;34m\u001b[0m\u001b[0;34m\u001b[0m\u001b[0m\n\u001b[0m\u001b[1;32m      5\u001b[0m \u001b[0;34m\u001b[0m\u001b[0m\n\u001b[1;32m      6\u001b[0m     \u001b[0my_pred\u001b[0m \u001b[0;34m=\u001b[0m \u001b[0mobj\u001b[0m\u001b[0;34m.\u001b[0m\u001b[0mpredict\u001b[0m\u001b[0;34m(\u001b[0m\u001b[0mX_test\u001b[0m\u001b[0;34m)\u001b[0m\u001b[0;34m\u001b[0m\u001b[0;34m\u001b[0m\u001b[0m\n\u001b[1;32m      7\u001b[0m \u001b[0;34m\u001b[0m\u001b[0m\n",
      "\u001b[0;32m/tmp/ipykernel_6196/1696675716.py\u001b[0m in \u001b[0;36m?\u001b[0;34m(self, X, y)\u001b[0m\n\u001b[1;32m     39\u001b[0m     \u001b[0;32mdef\u001b[0m \u001b[0mfit\u001b[0m\u001b[0;34m(\u001b[0m\u001b[0mself\u001b[0m\u001b[0;34m,\u001b[0m\u001b[0mX\u001b[0m\u001b[0;34m,\u001b[0m\u001b[0my\u001b[0m\u001b[0;34m)\u001b[0m\u001b[0;34m:\u001b[0m\u001b[0;34m\u001b[0m\u001b[0;34m\u001b[0m\u001b[0m\n\u001b[0;32m---> 40\u001b[0;31m         \u001b[0mself\u001b[0m\u001b[0;34m.\u001b[0m\u001b[0mindex\u001b[0m\u001b[0;34m.\u001b[0m\u001b[0mtrain\u001b[0m\u001b[0;34m(\u001b[0m\u001b[0mX\u001b[0m\u001b[0;34m[\u001b[0m\u001b[0;34m:\u001b[0m\u001b[0mint\u001b[0m\u001b[0;34m(\u001b[0m\u001b[0;36m1e6\u001b[0m\u001b[0;34m)\u001b[0m\u001b[0;34m]\u001b[0m\u001b[0;34m)\u001b[0m\u001b[0;34m\u001b[0m\u001b[0;34m\u001b[0m\u001b[0m\n\u001b[0m\u001b[1;32m     41\u001b[0m         \u001b[0msuper\u001b[0m\u001b[0;34m(\u001b[0m\u001b[0;34m)\u001b[0m\u001b[0;34m.\u001b[0m\u001b[0mfit\u001b[0m\u001b[0;34m(\u001b[0m\u001b[0mX\u001b[0m\u001b[0;34m,\u001b[0m\u001b[0my\u001b[0m\u001b[0;34m)\u001b[0m\u001b[0;34m\u001b[0m\u001b[0;34m\u001b[0m\u001b[0m\n",
      "\u001b[0;32m~/anaconda3/envs/faiss/lib/python3.9/site-packages/faiss/class_wrappers.py\u001b[0m in \u001b[0;36m?\u001b[0;34m(self, x)\u001b[0m\n\u001b[1;32m    294\u001b[0m         \"\"\"\n\u001b[1;32m    295\u001b[0m         \u001b[0mn\u001b[0m\u001b[0;34m,\u001b[0m \u001b[0md\u001b[0m \u001b[0;34m=\u001b[0m \u001b[0mx\u001b[0m\u001b[0;34m.\u001b[0m\u001b[0mshape\u001b[0m\u001b[0;34m\u001b[0m\u001b[0;34m\u001b[0m\u001b[0m\n\u001b[1;32m    296\u001b[0m         \u001b[0;32massert\u001b[0m \u001b[0md\u001b[0m \u001b[0;34m==\u001b[0m \u001b[0mself\u001b[0m\u001b[0;34m.\u001b[0m\u001b[0md\u001b[0m\u001b[0;34m\u001b[0m\u001b[0;34m\u001b[0m\u001b[0m\n\u001b[1;32m    297\u001b[0m         \u001b[0mx\u001b[0m \u001b[0;34m=\u001b[0m \u001b[0mnp\u001b[0m\u001b[0;34m.\u001b[0m\u001b[0mascontiguousarray\u001b[0m\u001b[0;34m(\u001b[0m\u001b[0mx\u001b[0m\u001b[0;34m,\u001b[0m \u001b[0mdtype\u001b[0m\u001b[0;34m=\u001b[0m\u001b[0;34m'float32'\u001b[0m\u001b[0;34m)\u001b[0m\u001b[0;34m\u001b[0m\u001b[0;34m\u001b[0m\u001b[0m\n\u001b[0;32m--> 298\u001b[0;31m         \u001b[0mself\u001b[0m\u001b[0;34m.\u001b[0m\u001b[0mtrain_c\u001b[0m\u001b[0;34m(\u001b[0m\u001b[0mn\u001b[0m\u001b[0;34m,\u001b[0m \u001b[0mswig_ptr\u001b[0m\u001b[0;34m(\u001b[0m\u001b[0mx\u001b[0m\u001b[0;34m)\u001b[0m\u001b[0;34m)\u001b[0m\u001b[0;34m\u001b[0m\u001b[0;34m\u001b[0m\u001b[0m\n\u001b[0m",
      "\u001b[0;32m~/anaconda3/envs/faiss/lib/python3.9/site-packages/faiss/swigfaiss_avx2.py\u001b[0m in \u001b[0;36m?\u001b[0;34m(self, n, x)\u001b[0m\n\u001b[1;32m  10826\u001b[0m     \u001b[0;32mdef\u001b[0m \u001b[0mtrain\u001b[0m\u001b[0;34m(\u001b[0m\u001b[0mself\u001b[0m\u001b[0;34m,\u001b[0m \u001b[0mn\u001b[0m\u001b[0;34m,\u001b[0m \u001b[0mx\u001b[0m\u001b[0;34m)\u001b[0m\u001b[0;34m:\u001b[0m\u001b[0;34m\u001b[0m\u001b[0;34m\u001b[0m\u001b[0m\n\u001b[1;32m  10827\u001b[0m         \u001b[0;34mr\"\"\" Trains the coarse and product quantizer based on the given vector data\"\"\"\u001b[0m\u001b[0;34m\u001b[0m\u001b[0;34m\u001b[0m\u001b[0m\n\u001b[0;32m> 10828\u001b[0;31m         \u001b[0;32mreturn\u001b[0m \u001b[0m_swigfaiss_avx2\u001b[0m\u001b[0;34m.\u001b[0m\u001b[0mGpuIndexIVFPQ_train\u001b[0m\u001b[0;34m(\u001b[0m\u001b[0mself\u001b[0m\u001b[0;34m,\u001b[0m \u001b[0mn\u001b[0m\u001b[0;34m,\u001b[0m \u001b[0mx\u001b[0m\u001b[0;34m)\u001b[0m\u001b[0;34m\u001b[0m\u001b[0;34m\u001b[0m\u001b[0m\n\u001b[0m",
      "\u001b[0;31mKeyboardInterrupt\u001b[0m: "
     ]
    }
   ],
   "source": [
    "total = 1500\n",
    "current_idx = 0\n",
    "import time\n",
    "\n",
    "t0 = time.time()\n",
    "for k_val in k:\n",
    "    for n in nprobes:\n",
    "\n",
    "        arr = np.zeros(30)\n",
    "        for i in range(30):\n",
    "            val = benchmarking(k_val,n,nlist)\n",
    "            arr[i] = val\n",
    "            print(f\"\\r{current_idx}/{total} ({(time.time()-t0):.3f} s)\" , end=' ')\n",
    "            current_idx += 1\n",
    "            \n",
    "\n",
    "        \n",
    "        val = abs(arr.mean() - arr.std())\n",
    "        \n",
    "        d[k_val][n] = val\n",
    "\n",
    "        \n",
    "        "
   ]
  },
  {
   "cell_type": "code",
   "execution_count": 111,
   "id": "68696ca9-4770-46b1-95d8-14ec25966335",
   "metadata": {},
   "outputs": [
    {
     "data": {
      "text/plain": [
       "{3: {1: 0.9122807017543859,\n",
       "  2: 0.9122807017543859,\n",
       "  3: 0.9122807017543859,\n",
       "  4: 0.9122807017543859,\n",
       "  5: 0.9122807017543859},\n",
       " 5: {1: 0.9239766081871345,\n",
       "  2: 0.9239766081871345,\n",
       "  3: 0.9239766081871345,\n",
       "  4: 0.9239766081871345,\n",
       "  5: 0.9239766081871345},\n",
       " 7: {1: 0.9415204678362566,\n",
       "  2: 0.9356725146198823,\n",
       "  3: 0.9415204678362566,\n",
       "  4: 0.9415204678362566,\n",
       "  5: 0.9415204678362566},\n",
       " 9: {1: 0.9415204678362566,\n",
       "  2: 0.9415204678362566,\n",
       "  3: 0.9415204678362566,\n",
       "  4: 0.9415204678362566,\n",
       "  5: 0.9415204678362566},\n",
       " 11: {1: 0.9473684210526311,\n",
       "  2: 0.9473684210526311,\n",
       "  3: 0.9473684210526311,\n",
       "  4: 0.9473684210526311,\n",
       "  5: 0.9473684210526311},\n",
       " 13: {1: 0.9532163742690054,\n",
       "  2: 0.9532163742690054,\n",
       "  3: 0.9532163742690054,\n",
       "  4: 0.9532163742690054,\n",
       "  5: 0.9532163742690054},\n",
       " 15: {1: 0.9473684210526311,\n",
       "  2: 0.9532163742690054,\n",
       "  3: 0.9532163742690054,\n",
       "  4: 0.9532163742690054,\n",
       "  5: 0.9473684210526311},\n",
       " 17: {1: 0.9473684210526311,\n",
       "  2: 0.9532163742690054,\n",
       "  3: 0.9473684210526311,\n",
       "  4: 0.9473684210526311,\n",
       "  5: 0.9473684210526311},\n",
       " 19: {1: 0.9532163742690054,\n",
       "  2: 0.9590643274853798,\n",
       "  3: 0.9590643274853798,\n",
       "  4: 0.9532163742690054,\n",
       "  5: 0.9532163742690054},\n",
       " 21: {1: 0.9590643274853798,\n",
       "  2: 0.9590643274853798,\n",
       "  3: 0.9590643274853798,\n",
       "  4: 0.9590643274853798,\n",
       "  5: 0.9590643274853798}}"
      ]
     },
     "execution_count": 111,
     "metadata": {},
     "output_type": "execute_result"
    }
   ],
   "source": [
    "d"
   ]
  },
  {
   "cell_type": "markdown",
   "id": "3d0382fc-06a0-4c97-91d9-7862c0b03621",
   "metadata": {},
   "source": [
    "É possível verificar que a influência do número de partições buscada, nprobes, não é algo tão relevante, visto que que não há muita mudança ao variar o parâmetro."
   ]
  },
  {
   "cell_type": "markdown",
   "id": "9b1320eb-3b05-4391-9239-942daa7fefd7",
   "metadata": {},
   "source": [
    "Com isto, podemos compreender que o parâmetro bem importante neste caso é o número de k, e desta maneira podemos verificar como o modelo se comporta com diferentes valores de k"
   ]
  },
  {
   "cell_type": "code",
   "execution_count": 112,
   "id": "f438787f-9712-4c61-9041-75e8fb6a4937",
   "metadata": {},
   "outputs": [],
   "source": [
    "acc_vals = []\n",
    "\n",
    "for i in d:\n",
    "    index = max(d[i], key = lambda x:d[i][x])\n",
    "\n",
    "    acc_vals.append(d[i][index])"
   ]
  },
  {
   "cell_type": "code",
   "execution_count": 113,
   "id": "b101a1a2-6581-4986-8f4d-db8aedb08624",
   "metadata": {},
   "outputs": [
    {
     "data": {
      "image/png": "[encoded data removed]",
      "text/plain": [
       "<Figure size 1000x500 with 1 Axes>"
      ]
     },
     "metadata": {},
     "output_type": "display_data"
    }
   ],
   "source": [
    "plt.plot(k,acc_vals,marker='o',markersize=8,color='red',markerfacecolor='black',\n",
    "        markeredgecolor='black',linestyle='-'\n",
    ")\n",
    "\n",
    "plt.xticks(k,k)\n",
    "\n",
    "\n",
    "plt.ylabel('Accuracy')\n",
    "plt.xlabel('Numero de vizinhos')\n",
    "plt.title(\"Desemepenho do modelo de acordo com seu número de vizinhos\")\n",
    "\n",
    "plt.show()"
   ]
  },
  {
   "cell_type": "markdown",
   "id": "607e0243-761b-4444-872a-1ba947f80960",
   "metadata": {},
   "source": [
    "Podemos verificar que com a variaçãp do número de vizinhos existe uma variação na acurácia do modelo, embora pouca, na casa de 0.05, caso o número de dados seja maior essa diferença pode ser importante. Desta maneira é interessante encontrar um equilíbrio entre a acurácia e o valor de k, visto que caso o valor seja muito grande, além do fato de que o modelo pode perder a capacidade de generalização resultando em overfiting, a utilização de memória e complexidade do algoritmo irá aumentar bastante."
   ]
  },
  {
   "cell_type": "markdown",
   "id": "b9cc57f3-8414-4301-bb58-9615dbf15eb7",
   "metadata": {},
   "source": [
    "# Validação"
   ]
  },
  {
   "cell_type": "markdown",
   "id": "ba6cb122-cac9-4bdb-8b8c-8590ad66da1c",
   "metadata": {},
   "source": [
    "Após encontrar os melhores paramêtros para o nosso modelo, é extremamente importante realizar a validação do nosso modelo, para verificarmos se há overfitting nos nossos dados. Para isso, podemos utilizar o cross-validation para evitar qualquer tipo de overfitting port parte do nosso modelo."
   ]
  },
  {
   "cell_type": "code",
   "execution_count": 49,
   "id": "85d481ff-4a76-4b51-ae50-5d905bc0b882",
   "metadata": {},
   "outputs": [
    {
     "name": "stderr",
     "output_type": "stream",
     "text": [
      "WARNING clustering 358 points to 10 centroids: please provide at least 390 training points\n",
      "WARNING clustering 358 points to 10 centroids: please provide at least 390 training points\n",
      "WARNING clustering 358 points to 10 centroids: please provide at least 390 training points\n",
      "WARNING clustering 358 points to 10 centroids: please provide at least 390 training points\n",
      "WARNING clustering 358 points to 10 centroids: please provide at least 390 training points\n",
      "WARNING clustering 358 points to 10 centroids: please provide at least 390 training points\n",
      "WARNING clustering 358 points to 10 centroids: please provide at least 390 training points\n",
      "WARNING clustering 358 points to 10 centroids: please provide at least 390 training points\n",
      "WARNING clustering 359 points to 10 centroids: please provide at least 390 training points\n",
      "WARNING clustering 359 points to 10 centroids: please provide at least 390 training points\n"
     ]
    }
   ],
   "source": [
    "from sklearn.model_selection import KFold\n",
    "\n",
    "kf = KFold(n_splits=10, shuffle=True)\n",
    "\n",
    "scores = []\n",
    "\n",
    "for train, val in kf.split(X_train):\n",
    "    x_train, x_val = X_train[train], X_train[val]\n",
    "    Y_train, y_val = y_train[train], y_train[val]\n",
    "\n",
    "    obj = MultiIVFPQ(k=13,dimensions=20,nprobe=3,nlist=10)\n",
    "\n",
    "    obj.fit(x_train,Y_train)\n",
    "\n",
    "    pred = obj.predict(x_val)\n",
    "\n",
    "\n",
    "    scores.append((accuracy_score(y_val, pred)))"
   ]
  },
  {
   "cell_type": "code",
   "execution_count": 50,
   "id": "54ffc15f-05a6-4cef-8a49-1c9d5af78cf1",
   "metadata": {},
   "outputs": [
    {
     "name": "stdout",
     "output_type": "stream",
     "text": [
      "Fold 1 - Accuracy: 0.95\n",
      "Fold 2 - Accuracy: 0.925\n",
      "Fold 3 - Accuracy: 0.95\n",
      "Fold 4 - Accuracy: 1.0\n",
      "Fold 5 - Accuracy: 0.85\n",
      "Fold 6 - Accuracy: 0.95\n",
      "Fold 7 - Accuracy: 0.9\n",
      "Fold 8 - Accuracy: 0.95\n",
      "Fold 9 - Accuracy: 0.9230769230769231\n",
      "Fold 10 - Accuracy: 0.8974358974358975\n"
     ]
    }
   ],
   "source": [
    "# Mostrando cada métricas por fold\n",
    "for i, (acc) in enumerate(scores):\n",
    "    print(f\"Fold {i+1} - Accuracy: {acc}\")"
   ]
  },
  {
   "cell_type": "markdown",
   "id": "0314a58b-a59f-48d0-8bbe-020b24f87375",
   "metadata": {},
   "source": [
    "COnseguimos obter um modelo que não está overfittado e dessa forma podemos validá-lo, e assim podemos prosseguir para realizar a classificação final."
   ]
  },
  {
   "cell_type": "markdown",
   "id": "3355f024-a0ea-44ad-90bc-91e63941c7ee",
   "metadata": {},
   "source": [
    "# Classificação Final"
   ]
  },
  {
   "cell_type": "markdown",
   "id": "05a08ef0-7860-491c-bfd1-57ee49c55ba6",
   "metadata": {},
   "source": [
    "Após isto podemos realizar uma classificação final utilizando os hiperparâmetros buscados e tentar verificar mais informações sobre esta classificação"
   ]
  },
  {
   "cell_type": "markdown",
   "id": "99397a51-9774-45b2-88b4-de02b922b161",
   "metadata": {},
   "source": [
    "Para isto, utilizaremos k = 13, pois após este valor a subida começa a ser muito pouca"
   ]
  },
  {
   "cell_type": "code",
   "execution_count": 51,
   "id": "2024e152-a092-4355-a4e8-3caf7271872b",
   "metadata": {},
   "outputs": [
    {
     "data": {
      "text/plain": [
       "0.9473684210526315"
      ]
     },
     "execution_count": 51,
     "metadata": {},
     "output_type": "execute_result"
    }
   ],
   "source": [
    "obj = MultiIVFPQ(k=13,dimensions=20,nprobe=3,nlist=10)\n",
    "\n",
    "obj.fit(X_train,y_train)\n",
    "\n",
    "y_pred = obj.predict(X_test)\n",
    "\n",
    "\n",
    "accuracy_score(y_test, y_pred)"
   ]
  },
  {
   "cell_type": "markdown",
   "id": "d18f72e4-1e9f-4e5f-8593-39711e8462ee",
   "metadata": {},
   "source": [
    "Um jeito interessante para verificar os resultados é verificar a matrix de confusão e o classification report, para podermmos entender os resultados"
   ]
  },
  {
   "cell_type": "markdown",
   "id": "bf2eb449-4152-40d5-ac50-2d43fc93f90e",
   "metadata": {},
   "source": [
    "## Matriz de confusão"
   ]
  },
  {
   "cell_type": "code",
   "execution_count": 52,
   "id": "1ce826c1-ba00-4120-8539-04d3690baddf",
   "metadata": {},
   "outputs": [
    {
     "data": {
      "image/png": "[encoded data removed]",
      "text/plain": [
       "<Figure size 640x480 with 2 Axes>"
      ]
     },
     "metadata": {},
     "output_type": "display_data"
    }
   ],
   "source": [
    "from sklearn.metrics import confusion_matrix\n",
    "from sklearn.metrics import ConfusionMatrixDisplay\n",
    "\n",
    "plt.rcParams[\"figure.figsize\"] = [7.00, 3.50]\n",
    "plt.rcParams[\"figure.autolayout\"] = True\n",
    "\n",
    "sns.reset_orig() \n",
    "\n",
    "ConfusionMatrixDisplay.from_predictions(\n",
    "    y_test, y_pred,display_labels=['Benigno','Maligno'])\n",
    "\n",
    "plt.show()"
   ]
  },
  {
   "cell_type": "code",
   "execution_count": 53,
   "id": "f46854c1-b320-4222-8a6a-70029e19b48c",
   "metadata": {},
   "outputs": [
    {
     "name": "stdout",
     "output_type": "stream",
     "text": [
      "              precision    recall  f1-score   support\n",
      "\n",
      "     Benigno       0.95      0.97      0.96       108\n",
      "     Maligno       0.95      0.90      0.93        63\n",
      "\n",
      "    accuracy                           0.95       171\n",
      "   macro avg       0.95      0.94      0.94       171\n",
      "weighted avg       0.95      0.95      0.95       171\n",
      "\n"
     ]
    }
   ],
   "source": [
    "from sklearn.metrics import classification_report\n",
    "\n",
    "print(classification_report(y_test, y_pred, target_names=['Benigno','Maligno']))"
   ]
  },
  {
   "cell_type": "markdown",
   "id": "50669dfe-4b9b-4c2f-8b3b-143c97e9dd7d",
   "metadata": {},
   "source": [
    "Podemos compreender que os resultados foram satisfatórios, com o modelo sendo capaz de prever bem as classes tanto positivas quanto negativas, oque pode ser um problema, mas nesse caso o modelo conseguiu lidar bem com os dados."
   ]
  },
  {
   "cell_type": "markdown",
   "id": "0b9ec15b-e4c1-493e-a63c-9eaf54bef2d1",
   "metadata": {},
   "source": [
    "# Conclusão"
   ]
  },
  {
   "cell_type": "markdown",
   "id": "c48f6e91-8796-4601-b782-d086f9f1ab5f",
   "metadata": {},
   "source": [
    "Após a realização deste projeto foi possível compreender o funcionamento do algoritmo de kNN para a classificação binária de dados. Além disso, foi possível entender a capacidade que métodos aproximados tem de conseguir substituir a altura métodos exatos, utilizando muito menos tempo e memória. Também, pode-se verificar que GPUs são extremamante benéficas para tarefas de aprendizado de máquina já que permitem uma aceleração do modelo. Finalmente, pode-se realizar uma pequena busca de hiperparâmetros para verificar qual era o mais adequado neste caso.\n",
    "\n",
    "É importante ressaltar que a estrutura utilizada pode ser adequada para um sistema multi-GPU Que iria mostrar uma capacidade de processar rapidamente um conjunto de dados e conjuntos de dados extensos, em torno de mais de 100 milhões de amostras poderiam ser processados."
   ]
  }
 ],
 "metadata": {
  "kernelspec": {
   "display_name": "Python 3 (ipykernel)",
   "language": "python",
   "name": "python3"
  },
  "language_info": {
   "codemirror_mode": {
    "name": "ipython",
    "version": 3
   },
   "file_extension": ".py",
   "mimetype": "text/x-python",
   "name": "python",
   "nbconvert_exporter": "python",
   "pygments_lexer": "ipython3",
   "version": "3.9.16"
  }
 },
 "nbformat": 4,
 "nbformat_minor": 5
}
